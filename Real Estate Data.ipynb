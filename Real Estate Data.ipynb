{
 "cells": [
  {
   "cell_type": "markdown",
   "id": "8787ac33",
   "metadata": {},
   "source": [
    "# Import Libraries and Read Data"
   ]
  },
  {
   "cell_type": "code",
   "execution_count": 1,
   "id": "bbe9dcb7",
   "metadata": {},
   "outputs": [],
   "source": [
    "import numpy as np\n",
    "import pandas as pd\n",
    "import matplotlib.pyplot as plt\n",
    "import seaborn as sb\n",
    "%matplotlib inline\n",
    "pd.set_option('display.max_columns', None)"
   ]
  },
  {
   "cell_type": "code",
   "execution_count": 2,
   "id": "d40669fb",
   "metadata": {},
   "outputs": [],
   "source": [
    "df = pd.read_csv('Real estate.csv')"
   ]
  },
  {
   "cell_type": "code",
   "execution_count": 3,
   "id": "5ec233af",
   "metadata": {},
   "outputs": [
    {
     "data": {
      "text/html": [
       "<div>\n",
       "<style scoped>\n",
       "    .dataframe tbody tr th:only-of-type {\n",
       "        vertical-align: middle;\n",
       "    }\n",
       "\n",
       "    .dataframe tbody tr th {\n",
       "        vertical-align: top;\n",
       "    }\n",
       "\n",
       "    .dataframe thead th {\n",
       "        text-align: right;\n",
       "    }\n",
       "</style>\n",
       "<table border=\"1\" class=\"dataframe\">\n",
       "  <thead>\n",
       "    <tr style=\"text-align: right;\">\n",
       "      <th></th>\n",
       "      <th>No</th>\n",
       "      <th>X1 transaction date</th>\n",
       "      <th>X2 house age</th>\n",
       "      <th>X3 distance to the nearest MRT station</th>\n",
       "      <th>X4 number of convenience stores</th>\n",
       "      <th>X5 latitude</th>\n",
       "      <th>X6 longitude</th>\n",
       "      <th>Y house price of unit area</th>\n",
       "    </tr>\n",
       "  </thead>\n",
       "  <tbody>\n",
       "    <tr>\n",
       "      <th>0</th>\n",
       "      <td>1</td>\n",
       "      <td>2012.917</td>\n",
       "      <td>32.0</td>\n",
       "      <td>84.87882</td>\n",
       "      <td>10</td>\n",
       "      <td>24.98298</td>\n",
       "      <td>121.54024</td>\n",
       "      <td>37.9</td>\n",
       "    </tr>\n",
       "    <tr>\n",
       "      <th>1</th>\n",
       "      <td>2</td>\n",
       "      <td>2012.917</td>\n",
       "      <td>19.5</td>\n",
       "      <td>306.59470</td>\n",
       "      <td>9</td>\n",
       "      <td>24.98034</td>\n",
       "      <td>121.53951</td>\n",
       "      <td>42.2</td>\n",
       "    </tr>\n",
       "    <tr>\n",
       "      <th>2</th>\n",
       "      <td>3</td>\n",
       "      <td>2013.583</td>\n",
       "      <td>13.3</td>\n",
       "      <td>561.98450</td>\n",
       "      <td>5</td>\n",
       "      <td>24.98746</td>\n",
       "      <td>121.54391</td>\n",
       "      <td>47.3</td>\n",
       "    </tr>\n",
       "    <tr>\n",
       "      <th>3</th>\n",
       "      <td>4</td>\n",
       "      <td>2013.500</td>\n",
       "      <td>13.3</td>\n",
       "      <td>561.98450</td>\n",
       "      <td>5</td>\n",
       "      <td>24.98746</td>\n",
       "      <td>121.54391</td>\n",
       "      <td>54.8</td>\n",
       "    </tr>\n",
       "    <tr>\n",
       "      <th>4</th>\n",
       "      <td>5</td>\n",
       "      <td>2012.833</td>\n",
       "      <td>5.0</td>\n",
       "      <td>390.56840</td>\n",
       "      <td>5</td>\n",
       "      <td>24.97937</td>\n",
       "      <td>121.54245</td>\n",
       "      <td>43.1</td>\n",
       "    </tr>\n",
       "  </tbody>\n",
       "</table>\n",
       "</div>"
      ],
      "text/plain": [
       "   No  X1 transaction date  X2 house age  \\\n",
       "0   1             2012.917          32.0   \n",
       "1   2             2012.917          19.5   \n",
       "2   3             2013.583          13.3   \n",
       "3   4             2013.500          13.3   \n",
       "4   5             2012.833           5.0   \n",
       "\n",
       "   X3 distance to the nearest MRT station  X4 number of convenience stores  \\\n",
       "0                                84.87882                               10   \n",
       "1                               306.59470                                9   \n",
       "2                               561.98450                                5   \n",
       "3                               561.98450                                5   \n",
       "4                               390.56840                                5   \n",
       "\n",
       "   X5 latitude  X6 longitude  Y house price of unit area  \n",
       "0     24.98298     121.54024                        37.9  \n",
       "1     24.98034     121.53951                        42.2  \n",
       "2     24.98746     121.54391                        47.3  \n",
       "3     24.98746     121.54391                        54.8  \n",
       "4     24.97937     121.54245                        43.1  "
      ]
     },
     "execution_count": 3,
     "metadata": {},
     "output_type": "execute_result"
    }
   ],
   "source": [
    "df.head()"
   ]
  },
  {
   "cell_type": "code",
   "execution_count": 4,
   "id": "3188ff41",
   "metadata": {},
   "outputs": [
    {
     "data": {
      "text/plain": [
       "No                                          int64\n",
       "X1 transaction date                       float64\n",
       "X2 house age                              float64\n",
       "X3 distance to the nearest MRT station    float64\n",
       "X4 number of convenience stores             int64\n",
       "X5 latitude                               float64\n",
       "X6 longitude                              float64\n",
       "Y house price of unit area                float64\n",
       "dtype: object"
      ]
     },
     "execution_count": 4,
     "metadata": {},
     "output_type": "execute_result"
    }
   ],
   "source": [
    "df.dtypes"
   ]
  },
  {
   "cell_type": "markdown",
   "id": "9c346cb2",
   "metadata": {},
   "source": [
    "## Reading Data for potential Outliers and Nan's"
   ]
  },
  {
   "cell_type": "code",
   "execution_count": 5,
   "id": "6ffc40d9",
   "metadata": {},
   "outputs": [
    {
     "data": {
      "text/plain": [
       "No                                        0\n",
       "X1 transaction date                       0\n",
       "X2 house age                              0\n",
       "X3 distance to the nearest MRT station    0\n",
       "X4 number of convenience stores           0\n",
       "X5 latitude                               0\n",
       "X6 longitude                              0\n",
       "Y house price of unit area                0\n",
       "dtype: int64"
      ]
     },
     "execution_count": 5,
     "metadata": {},
     "output_type": "execute_result"
    }
   ],
   "source": [
    "df.isnull().sum()"
   ]
  },
  {
   "cell_type": "code",
   "execution_count": 6,
   "id": "4eac330d",
   "metadata": {},
   "outputs": [],
   "source": [
    "col = [feature for feature in df.columns if sum(df[feature] == 0) >= 1]"
   ]
  },
  {
   "cell_type": "code",
   "execution_count": 7,
   "id": "9f02bba2",
   "metadata": {},
   "outputs": [
    {
     "data": {
      "text/plain": [
       "['X2 house age', 'X4 number of convenience stores']"
      ]
     },
     "execution_count": 7,
     "metadata": {},
     "output_type": "execute_result"
    }
   ],
   "source": [
    "col"
   ]
  },
  {
   "cell_type": "code",
   "execution_count": 9,
   "id": "afcacd8d",
   "metadata": {},
   "outputs": [
    {
     "data": {
      "text/html": [
       "<div>\n",
       "<style scoped>\n",
       "    .dataframe tbody tr th:only-of-type {\n",
       "        vertical-align: middle;\n",
       "    }\n",
       "\n",
       "    .dataframe tbody tr th {\n",
       "        vertical-align: top;\n",
       "    }\n",
       "\n",
       "    .dataframe thead th {\n",
       "        text-align: right;\n",
       "    }\n",
       "</style>\n",
       "<table border=\"1\" class=\"dataframe\">\n",
       "  <thead>\n",
       "    <tr style=\"text-align: right;\">\n",
       "      <th></th>\n",
       "      <th>No</th>\n",
       "      <th>X1 transaction date</th>\n",
       "      <th>X2 house age</th>\n",
       "      <th>X3 distance to the nearest MRT station</th>\n",
       "      <th>X4 number of convenience stores</th>\n",
       "      <th>X5 latitude</th>\n",
       "      <th>X6 longitude</th>\n",
       "      <th>Y house price of unit area</th>\n",
       "    </tr>\n",
       "  </thead>\n",
       "  <tbody>\n",
       "    <tr>\n",
       "      <th>16</th>\n",
       "      <td>17</td>\n",
       "      <td>2013.250</td>\n",
       "      <td>0.0</td>\n",
       "      <td>292.9978</td>\n",
       "      <td>6</td>\n",
       "      <td>24.97744</td>\n",
       "      <td>121.54458</td>\n",
       "      <td>70.1</td>\n",
       "    </tr>\n",
       "    <tr>\n",
       "      <th>85</th>\n",
       "      <td>86</td>\n",
       "      <td>2012.750</td>\n",
       "      <td>0.0</td>\n",
       "      <td>338.9679</td>\n",
       "      <td>9</td>\n",
       "      <td>24.96853</td>\n",
       "      <td>121.54413</td>\n",
       "      <td>50.8</td>\n",
       "    </tr>\n",
       "    <tr>\n",
       "      <th>90</th>\n",
       "      <td>91</td>\n",
       "      <td>2012.833</td>\n",
       "      <td>0.0</td>\n",
       "      <td>274.0144</td>\n",
       "      <td>1</td>\n",
       "      <td>24.97480</td>\n",
       "      <td>121.53059</td>\n",
       "      <td>45.4</td>\n",
       "    </tr>\n",
       "    <tr>\n",
       "      <th>103</th>\n",
       "      <td>104</td>\n",
       "      <td>2012.750</td>\n",
       "      <td>0.0</td>\n",
       "      <td>208.3905</td>\n",
       "      <td>6</td>\n",
       "      <td>24.95618</td>\n",
       "      <td>121.53844</td>\n",
       "      <td>45.7</td>\n",
       "    </tr>\n",
       "    <tr>\n",
       "      <th>105</th>\n",
       "      <td>106</td>\n",
       "      <td>2012.833</td>\n",
       "      <td>0.0</td>\n",
       "      <td>292.9978</td>\n",
       "      <td>6</td>\n",
       "      <td>24.97744</td>\n",
       "      <td>121.54458</td>\n",
       "      <td>71.0</td>\n",
       "    </tr>\n",
       "    <tr>\n",
       "      <th>123</th>\n",
       "      <td>124</td>\n",
       "      <td>2013.417</td>\n",
       "      <td>0.0</td>\n",
       "      <td>185.4296</td>\n",
       "      <td>0</td>\n",
       "      <td>24.97110</td>\n",
       "      <td>121.53170</td>\n",
       "      <td>45.5</td>\n",
       "    </tr>\n",
       "    <tr>\n",
       "      <th>146</th>\n",
       "      <td>147</td>\n",
       "      <td>2012.750</td>\n",
       "      <td>0.0</td>\n",
       "      <td>185.4296</td>\n",
       "      <td>0</td>\n",
       "      <td>24.97110</td>\n",
       "      <td>121.53170</td>\n",
       "      <td>52.2</td>\n",
       "    </tr>\n",
       "    <tr>\n",
       "      <th>164</th>\n",
       "      <td>165</td>\n",
       "      <td>2012.833</td>\n",
       "      <td>0.0</td>\n",
       "      <td>185.4296</td>\n",
       "      <td>0</td>\n",
       "      <td>24.97110</td>\n",
       "      <td>121.53170</td>\n",
       "      <td>55.2</td>\n",
       "    </tr>\n",
       "    <tr>\n",
       "      <th>166</th>\n",
       "      <td>167</td>\n",
       "      <td>2013.417</td>\n",
       "      <td>0.0</td>\n",
       "      <td>292.9978</td>\n",
       "      <td>6</td>\n",
       "      <td>24.97744</td>\n",
       "      <td>121.54458</td>\n",
       "      <td>73.6</td>\n",
       "    </tr>\n",
       "    <tr>\n",
       "      <th>211</th>\n",
       "      <td>212</td>\n",
       "      <td>2013.083</td>\n",
       "      <td>0.0</td>\n",
       "      <td>274.0144</td>\n",
       "      <td>1</td>\n",
       "      <td>24.97480</td>\n",
       "      <td>121.53059</td>\n",
       "      <td>43.5</td>\n",
       "    </tr>\n",
       "    <tr>\n",
       "      <th>258</th>\n",
       "      <td>259</td>\n",
       "      <td>2013.417</td>\n",
       "      <td>0.0</td>\n",
       "      <td>292.9978</td>\n",
       "      <td>6</td>\n",
       "      <td>24.97744</td>\n",
       "      <td>121.54458</td>\n",
       "      <td>63.3</td>\n",
       "    </tr>\n",
       "    <tr>\n",
       "      <th>278</th>\n",
       "      <td>279</td>\n",
       "      <td>2012.750</td>\n",
       "      <td>0.0</td>\n",
       "      <td>208.3905</td>\n",
       "      <td>6</td>\n",
       "      <td>24.95618</td>\n",
       "      <td>121.53844</td>\n",
       "      <td>44.0</td>\n",
       "    </tr>\n",
       "    <tr>\n",
       "      <th>345</th>\n",
       "      <td>346</td>\n",
       "      <td>2012.667</td>\n",
       "      <td>0.0</td>\n",
       "      <td>185.4296</td>\n",
       "      <td>0</td>\n",
       "      <td>24.97110</td>\n",
       "      <td>121.53170</td>\n",
       "      <td>37.9</td>\n",
       "    </tr>\n",
       "    <tr>\n",
       "      <th>357</th>\n",
       "      <td>358</td>\n",
       "      <td>2013.417</td>\n",
       "      <td>0.0</td>\n",
       "      <td>338.9679</td>\n",
       "      <td>9</td>\n",
       "      <td>24.96853</td>\n",
       "      <td>121.54413</td>\n",
       "      <td>44.9</td>\n",
       "    </tr>\n",
       "    <tr>\n",
       "      <th>373</th>\n",
       "      <td>374</td>\n",
       "      <td>2013.083</td>\n",
       "      <td>0.0</td>\n",
       "      <td>274.0144</td>\n",
       "      <td>1</td>\n",
       "      <td>24.97480</td>\n",
       "      <td>121.53059</td>\n",
       "      <td>52.2</td>\n",
       "    </tr>\n",
       "    <tr>\n",
       "      <th>379</th>\n",
       "      <td>380</td>\n",
       "      <td>2013.333</td>\n",
       "      <td>0.0</td>\n",
       "      <td>292.9978</td>\n",
       "      <td>6</td>\n",
       "      <td>24.97744</td>\n",
       "      <td>121.54458</td>\n",
       "      <td>69.7</td>\n",
       "    </tr>\n",
       "    <tr>\n",
       "      <th>386</th>\n",
       "      <td>387</td>\n",
       "      <td>2012.833</td>\n",
       "      <td>0.0</td>\n",
       "      <td>185.4296</td>\n",
       "      <td>0</td>\n",
       "      <td>24.97110</td>\n",
       "      <td>121.53170</td>\n",
       "      <td>55.3</td>\n",
       "    </tr>\n",
       "  </tbody>\n",
       "</table>\n",
       "</div>"
      ],
      "text/plain": [
       "      No  X1 transaction date  X2 house age  \\\n",
       "16    17             2013.250           0.0   \n",
       "85    86             2012.750           0.0   \n",
       "90    91             2012.833           0.0   \n",
       "103  104             2012.750           0.0   \n",
       "105  106             2012.833           0.0   \n",
       "123  124             2013.417           0.0   \n",
       "146  147             2012.750           0.0   \n",
       "164  165             2012.833           0.0   \n",
       "166  167             2013.417           0.0   \n",
       "211  212             2013.083           0.0   \n",
       "258  259             2013.417           0.0   \n",
       "278  279             2012.750           0.0   \n",
       "345  346             2012.667           0.0   \n",
       "357  358             2013.417           0.0   \n",
       "373  374             2013.083           0.0   \n",
       "379  380             2013.333           0.0   \n",
       "386  387             2012.833           0.0   \n",
       "\n",
       "     X3 distance to the nearest MRT station  X4 number of convenience stores  \\\n",
       "16                                 292.9978                                6   \n",
       "85                                 338.9679                                9   \n",
       "90                                 274.0144                                1   \n",
       "103                                208.3905                                6   \n",
       "105                                292.9978                                6   \n",
       "123                                185.4296                                0   \n",
       "146                                185.4296                                0   \n",
       "164                                185.4296                                0   \n",
       "166                                292.9978                                6   \n",
       "211                                274.0144                                1   \n",
       "258                                292.9978                                6   \n",
       "278                                208.3905                                6   \n",
       "345                                185.4296                                0   \n",
       "357                                338.9679                                9   \n",
       "373                                274.0144                                1   \n",
       "379                                292.9978                                6   \n",
       "386                                185.4296                                0   \n",
       "\n",
       "     X5 latitude  X6 longitude  Y house price of unit area  \n",
       "16      24.97744     121.54458                        70.1  \n",
       "85      24.96853     121.54413                        50.8  \n",
       "90      24.97480     121.53059                        45.4  \n",
       "103     24.95618     121.53844                        45.7  \n",
       "105     24.97744     121.54458                        71.0  \n",
       "123     24.97110     121.53170                        45.5  \n",
       "146     24.97110     121.53170                        52.2  \n",
       "164     24.97110     121.53170                        55.2  \n",
       "166     24.97744     121.54458                        73.6  \n",
       "211     24.97480     121.53059                        43.5  \n",
       "258     24.97744     121.54458                        63.3  \n",
       "278     24.95618     121.53844                        44.0  \n",
       "345     24.97110     121.53170                        37.9  \n",
       "357     24.96853     121.54413                        44.9  \n",
       "373     24.97480     121.53059                        52.2  \n",
       "379     24.97744     121.54458                        69.7  \n",
       "386     24.97110     121.53170                        55.3  "
      ]
     },
     "execution_count": 9,
     "metadata": {},
     "output_type": "execute_result"
    }
   ],
   "source": [
    "df.loc[df['X2 house age'] == 0]"
   ]
  },
  {
   "cell_type": "code",
   "execution_count": 12,
   "id": "efa3576a",
   "metadata": {},
   "outputs": [
    {
     "data": {
      "text/plain": [
       "(array([31., 27., 24., 19., 16., 33., 45., 52., 28., 16.,  5.,  5., 11.,\n",
       "        16., 27., 23., 13., 12.,  9.,  2.]),\n",
       " array([ 0.  ,  2.19,  4.38,  6.57,  8.76, 10.95, 13.14, 15.33, 17.52,\n",
       "        19.71, 21.9 , 24.09, 26.28, 28.47, 30.66, 32.85, 35.04, 37.23,\n",
       "        39.42, 41.61, 43.8 ]),\n",
       " <BarContainer object of 20 artists>)"
      ]
     },
     "execution_count": 12,
     "metadata": {},
     "output_type": "execute_result"
    },
    {
     "data": {
      "image/png": "[encoded data removed]",
      "text/plain": [
       "<Figure size 432x288 with 1 Axes>"
      ]
     },
     "metadata": {
      "needs_background": "light"
     },
     "output_type": "display_data"
    }
   ],
   "source": [
    "plt.hist(df['X2 house age'], bins = 20)"
   ]
  },
  {
   "cell_type": "markdown",
   "id": "0f21c36a",
   "metadata": {},
   "source": [
    "# Segregation of Year and Month"
   ]
  },
  {
   "cell_type": "code",
   "execution_count": 14,
   "id": "8dc15b6b",
   "metadata": {},
   "outputs": [],
   "source": [
    "df['date'] = df['X1 transaction date'].astype(str)"
   ]
  },
  {
   "cell_type": "code",
   "execution_count": 15,
   "id": "acce06e3",
   "metadata": {},
   "outputs": [],
   "source": [
    "df['year'] = df['date'].str.split('.', expand = True)[0]"
   ]
  },
  {
   "cell_type": "code",
   "execution_count": 16,
   "id": "91ace856",
   "metadata": {},
   "outputs": [],
   "source": [
    "df['month'] = df['date'].str.split('.', expand = True)[1]"
   ]
  },
  {
   "cell_type": "code",
   "execution_count": 17,
   "id": "9cd5e122",
   "metadata": {},
   "outputs": [
    {
     "data": {
      "text/html": [
       "<div>\n",
       "<style scoped>\n",
       "    .dataframe tbody tr th:only-of-type {\n",
       "        vertical-align: middle;\n",
       "    }\n",
       "\n",
       "    .dataframe tbody tr th {\n",
       "        vertical-align: top;\n",
       "    }\n",
       "\n",
       "    .dataframe thead th {\n",
       "        text-align: right;\n",
       "    }\n",
       "</style>\n",
       "<table border=\"1\" class=\"dataframe\">\n",
       "  <thead>\n",
       "    <tr style=\"text-align: right;\">\n",
       "      <th></th>\n",
       "      <th>No</th>\n",
       "      <th>X1 transaction date</th>\n",
       "      <th>X2 house age</th>\n",
       "      <th>X3 distance to the nearest MRT station</th>\n",
       "      <th>X4 number of convenience stores</th>\n",
       "      <th>X5 latitude</th>\n",
       "      <th>X6 longitude</th>\n",
       "      <th>Y house price of unit area</th>\n",
       "      <th>date</th>\n",
       "      <th>year</th>\n",
       "      <th>month</th>\n",
       "    </tr>\n",
       "  </thead>\n",
       "  <tbody>\n",
       "    <tr>\n",
       "      <th>0</th>\n",
       "      <td>1</td>\n",
       "      <td>2012.917</td>\n",
       "      <td>32.0</td>\n",
       "      <td>84.87882</td>\n",
       "      <td>10</td>\n",
       "      <td>24.98298</td>\n",
       "      <td>121.54024</td>\n",
       "      <td>37.9</td>\n",
       "      <td>2012.917</td>\n",
       "      <td>2012</td>\n",
       "      <td>917</td>\n",
       "    </tr>\n",
       "    <tr>\n",
       "      <th>1</th>\n",
       "      <td>2</td>\n",
       "      <td>2012.917</td>\n",
       "      <td>19.5</td>\n",
       "      <td>306.59470</td>\n",
       "      <td>9</td>\n",
       "      <td>24.98034</td>\n",
       "      <td>121.53951</td>\n",
       "      <td>42.2</td>\n",
       "      <td>2012.917</td>\n",
       "      <td>2012</td>\n",
       "      <td>917</td>\n",
       "    </tr>\n",
       "    <tr>\n",
       "      <th>2</th>\n",
       "      <td>3</td>\n",
       "      <td>2013.583</td>\n",
       "      <td>13.3</td>\n",
       "      <td>561.98450</td>\n",
       "      <td>5</td>\n",
       "      <td>24.98746</td>\n",
       "      <td>121.54391</td>\n",
       "      <td>47.3</td>\n",
       "      <td>2013.583</td>\n",
       "      <td>2013</td>\n",
       "      <td>583</td>\n",
       "    </tr>\n",
       "    <tr>\n",
       "      <th>3</th>\n",
       "      <td>4</td>\n",
       "      <td>2013.500</td>\n",
       "      <td>13.3</td>\n",
       "      <td>561.98450</td>\n",
       "      <td>5</td>\n",
       "      <td>24.98746</td>\n",
       "      <td>121.54391</td>\n",
       "      <td>54.8</td>\n",
       "      <td>2013.5</td>\n",
       "      <td>2013</td>\n",
       "      <td>5</td>\n",
       "    </tr>\n",
       "    <tr>\n",
       "      <th>4</th>\n",
       "      <td>5</td>\n",
       "      <td>2012.833</td>\n",
       "      <td>5.0</td>\n",
       "      <td>390.56840</td>\n",
       "      <td>5</td>\n",
       "      <td>24.97937</td>\n",
       "      <td>121.54245</td>\n",
       "      <td>43.1</td>\n",
       "      <td>2012.833</td>\n",
       "      <td>2012</td>\n",
       "      <td>833</td>\n",
       "    </tr>\n",
       "  </tbody>\n",
       "</table>\n",
       "</div>"
      ],
      "text/plain": [
       "   No  X1 transaction date  X2 house age  \\\n",
       "0   1             2012.917          32.0   \n",
       "1   2             2012.917          19.5   \n",
       "2   3             2013.583          13.3   \n",
       "3   4             2013.500          13.3   \n",
       "4   5             2012.833           5.0   \n",
       "\n",
       "   X3 distance to the nearest MRT station  X4 number of convenience stores  \\\n",
       "0                                84.87882                               10   \n",
       "1                               306.59470                                9   \n",
       "2                               561.98450                                5   \n",
       "3                               561.98450                                5   \n",
       "4                               390.56840                                5   \n",
       "\n",
       "   X5 latitude  X6 longitude  Y house price of unit area      date  year month  \n",
       "0     24.98298     121.54024                        37.9  2012.917  2012   917  \n",
       "1     24.98034     121.53951                        42.2  2012.917  2012   917  \n",
       "2     24.98746     121.54391                        47.3  2013.583  2013   583  \n",
       "3     24.98746     121.54391                        54.8    2013.5  2013     5  \n",
       "4     24.97937     121.54245                        43.1  2012.833  2012   833  "
      ]
     },
     "execution_count": 17,
     "metadata": {},
     "output_type": "execute_result"
    }
   ],
   "source": [
    "df.head()"
   ]
  },
  {
   "cell_type": "code",
   "execution_count": 18,
   "id": "aac27814",
   "metadata": {},
   "outputs": [],
   "source": [
    "df['month'] = df['month'].apply(lambda x : x[0])"
   ]
  },
  {
   "cell_type": "code",
   "execution_count": 19,
   "id": "08a6b803",
   "metadata": {},
   "outputs": [
    {
     "data": {
      "text/html": [
       "<div>\n",
       "<style scoped>\n",
       "    .dataframe tbody tr th:only-of-type {\n",
       "        vertical-align: middle;\n",
       "    }\n",
       "\n",
       "    .dataframe tbody tr th {\n",
       "        vertical-align: top;\n",
       "    }\n",
       "\n",
       "    .dataframe thead th {\n",
       "        text-align: right;\n",
       "    }\n",
       "</style>\n",
       "<table border=\"1\" class=\"dataframe\">\n",
       "  <thead>\n",
       "    <tr style=\"text-align: right;\">\n",
       "      <th></th>\n",
       "      <th>No</th>\n",
       "      <th>X1 transaction date</th>\n",
       "      <th>X2 house age</th>\n",
       "      <th>X3 distance to the nearest MRT station</th>\n",
       "      <th>X4 number of convenience stores</th>\n",
       "      <th>X5 latitude</th>\n",
       "      <th>X6 longitude</th>\n",
       "      <th>Y house price of unit area</th>\n",
       "      <th>date</th>\n",
       "      <th>year</th>\n",
       "      <th>month</th>\n",
       "    </tr>\n",
       "  </thead>\n",
       "  <tbody>\n",
       "    <tr>\n",
       "      <th>0</th>\n",
       "      <td>1</td>\n",
       "      <td>2012.917</td>\n",
       "      <td>32.0</td>\n",
       "      <td>84.87882</td>\n",
       "      <td>10</td>\n",
       "      <td>24.98298</td>\n",
       "      <td>121.54024</td>\n",
       "      <td>37.9</td>\n",
       "      <td>2012.917</td>\n",
       "      <td>2012</td>\n",
       "      <td>9</td>\n",
       "    </tr>\n",
       "    <tr>\n",
       "      <th>1</th>\n",
       "      <td>2</td>\n",
       "      <td>2012.917</td>\n",
       "      <td>19.5</td>\n",
       "      <td>306.59470</td>\n",
       "      <td>9</td>\n",
       "      <td>24.98034</td>\n",
       "      <td>121.53951</td>\n",
       "      <td>42.2</td>\n",
       "      <td>2012.917</td>\n",
       "      <td>2012</td>\n",
       "      <td>9</td>\n",
       "    </tr>\n",
       "    <tr>\n",
       "      <th>2</th>\n",
       "      <td>3</td>\n",
       "      <td>2013.583</td>\n",
       "      <td>13.3</td>\n",
       "      <td>561.98450</td>\n",
       "      <td>5</td>\n",
       "      <td>24.98746</td>\n",
       "      <td>121.54391</td>\n",
       "      <td>47.3</td>\n",
       "      <td>2013.583</td>\n",
       "      <td>2013</td>\n",
       "      <td>5</td>\n",
       "    </tr>\n",
       "    <tr>\n",
       "      <th>3</th>\n",
       "      <td>4</td>\n",
       "      <td>2013.500</td>\n",
       "      <td>13.3</td>\n",
       "      <td>561.98450</td>\n",
       "      <td>5</td>\n",
       "      <td>24.98746</td>\n",
       "      <td>121.54391</td>\n",
       "      <td>54.8</td>\n",
       "      <td>2013.5</td>\n",
       "      <td>2013</td>\n",
       "      <td>5</td>\n",
       "    </tr>\n",
       "    <tr>\n",
       "      <th>4</th>\n",
       "      <td>5</td>\n",
       "      <td>2012.833</td>\n",
       "      <td>5.0</td>\n",
       "      <td>390.56840</td>\n",
       "      <td>5</td>\n",
       "      <td>24.97937</td>\n",
       "      <td>121.54245</td>\n",
       "      <td>43.1</td>\n",
       "      <td>2012.833</td>\n",
       "      <td>2012</td>\n",
       "      <td>8</td>\n",
       "    </tr>\n",
       "  </tbody>\n",
       "</table>\n",
       "</div>"
      ],
      "text/plain": [
       "   No  X1 transaction date  X2 house age  \\\n",
       "0   1             2012.917          32.0   \n",
       "1   2             2012.917          19.5   \n",
       "2   3             2013.583          13.3   \n",
       "3   4             2013.500          13.3   \n",
       "4   5             2012.833           5.0   \n",
       "\n",
       "   X3 distance to the nearest MRT station  X4 number of convenience stores  \\\n",
       "0                                84.87882                               10   \n",
       "1                               306.59470                                9   \n",
       "2                               561.98450                                5   \n",
       "3                               561.98450                                5   \n",
       "4                               390.56840                                5   \n",
       "\n",
       "   X5 latitude  X6 longitude  Y house price of unit area      date  year month  \n",
       "0     24.98298     121.54024                        37.9  2012.917  2012     9  \n",
       "1     24.98034     121.53951                        42.2  2012.917  2012     9  \n",
       "2     24.98746     121.54391                        47.3  2013.583  2013     5  \n",
       "3     24.98746     121.54391                        54.8    2013.5  2013     5  \n",
       "4     24.97937     121.54245                        43.1  2012.833  2012     8  "
      ]
     },
     "execution_count": 19,
     "metadata": {},
     "output_type": "execute_result"
    }
   ],
   "source": [
    "df.head()"
   ]
  },
  {
   "cell_type": "code",
   "execution_count": 20,
   "id": "0602460b",
   "metadata": {},
   "outputs": [
    {
     "data": {
      "text/plain": [
       "0    74\n",
       "5    70\n",
       "4    58\n",
       "9    38\n",
       "2    32\n",
       "8    31\n",
       "6    30\n",
       "3    29\n",
       "7    27\n",
       "1    25\n",
       "Name: month, dtype: int64"
      ]
     },
     "execution_count": 20,
     "metadata": {},
     "output_type": "execute_result"
    }
   ],
   "source": [
    "df['month'].value_counts()"
   ]
  },
  {
   "cell_type": "code",
   "execution_count": 24,
   "id": "05cbb233",
   "metadata": {},
   "outputs": [],
   "source": [
    "df['month'] = np.where(df['month'] == '0', '1', df['month'])"
   ]
  },
  {
   "cell_type": "code",
   "execution_count": 25,
   "id": "950a38bc",
   "metadata": {},
   "outputs": [
    {
     "data": {
      "text/plain": [
       "1    99\n",
       "5    70\n",
       "4    58\n",
       "9    38\n",
       "2    32\n",
       "8    31\n",
       "6    30\n",
       "3    29\n",
       "7    27\n",
       "Name: month, dtype: int64"
      ]
     },
     "execution_count": 25,
     "metadata": {},
     "output_type": "execute_result"
    }
   ],
   "source": [
    "df['month'].value_counts()"
   ]
  },
  {
   "cell_type": "markdown",
   "id": "d8a071a4",
   "metadata": {},
   "source": [
    "# Converting Year and Month based on Effect on Price"
   ]
  },
  {
   "cell_type": "code",
   "execution_count": 31,
   "id": "c4135182",
   "metadata": {},
   "outputs": [],
   "source": [
    "index = df.groupby('month')['Y house price of unit area'].sum().sort_values().index"
   ]
  },
  {
   "cell_type": "code",
   "execution_count": 34,
   "id": "00ba074e",
   "metadata": {},
   "outputs": [],
   "source": [
    "order = {k : i for i,k in enumerate(index, 1)}"
   ]
  },
  {
   "cell_type": "code",
   "execution_count": 35,
   "id": "1aa48f57",
   "metadata": {},
   "outputs": [
    {
     "data": {
      "text/plain": [
       "{'7': 1, '8': 2, '6': 3, '3': 4, '2': 5, '9': 6, '4': 7, '5': 8, '1': 9}"
      ]
     },
     "execution_count": 35,
     "metadata": {},
     "output_type": "execute_result"
    }
   ],
   "source": [
    "order"
   ]
  },
  {
   "cell_type": "code",
   "execution_count": 36,
   "id": "10c5859d",
   "metadata": {},
   "outputs": [],
   "source": [
    "df['month'] = df['month'].map(order)"
   ]
  },
  {
   "cell_type": "code",
   "execution_count": 37,
   "id": "e52a18c2",
   "metadata": {},
   "outputs": [
    {
     "data": {
      "text/html": [
       "<div>\n",
       "<style scoped>\n",
       "    .dataframe tbody tr th:only-of-type {\n",
       "        vertical-align: middle;\n",
       "    }\n",
       "\n",
       "    .dataframe tbody tr th {\n",
       "        vertical-align: top;\n",
       "    }\n",
       "\n",
       "    .dataframe thead th {\n",
       "        text-align: right;\n",
       "    }\n",
       "</style>\n",
       "<table border=\"1\" class=\"dataframe\">\n",
       "  <thead>\n",
       "    <tr style=\"text-align: right;\">\n",
       "      <th></th>\n",
       "      <th>No</th>\n",
       "      <th>X1 transaction date</th>\n",
       "      <th>X2 house age</th>\n",
       "      <th>X3 distance to the nearest MRT station</th>\n",
       "      <th>X4 number of convenience stores</th>\n",
       "      <th>X5 latitude</th>\n",
       "      <th>X6 longitude</th>\n",
       "      <th>Y house price of unit area</th>\n",
       "      <th>date</th>\n",
       "      <th>year</th>\n",
       "      <th>month</th>\n",
       "    </tr>\n",
       "  </thead>\n",
       "  <tbody>\n",
       "    <tr>\n",
       "      <th>0</th>\n",
       "      <td>1</td>\n",
       "      <td>2012.917</td>\n",
       "      <td>32.0</td>\n",
       "      <td>84.87882</td>\n",
       "      <td>10</td>\n",
       "      <td>24.98298</td>\n",
       "      <td>121.54024</td>\n",
       "      <td>37.9</td>\n",
       "      <td>2012.917</td>\n",
       "      <td>2012</td>\n",
       "      <td>6</td>\n",
       "    </tr>\n",
       "    <tr>\n",
       "      <th>1</th>\n",
       "      <td>2</td>\n",
       "      <td>2012.917</td>\n",
       "      <td>19.5</td>\n",
       "      <td>306.59470</td>\n",
       "      <td>9</td>\n",
       "      <td>24.98034</td>\n",
       "      <td>121.53951</td>\n",
       "      <td>42.2</td>\n",
       "      <td>2012.917</td>\n",
       "      <td>2012</td>\n",
       "      <td>6</td>\n",
       "    </tr>\n",
       "    <tr>\n",
       "      <th>2</th>\n",
       "      <td>3</td>\n",
       "      <td>2013.583</td>\n",
       "      <td>13.3</td>\n",
       "      <td>561.98450</td>\n",
       "      <td>5</td>\n",
       "      <td>24.98746</td>\n",
       "      <td>121.54391</td>\n",
       "      <td>47.3</td>\n",
       "      <td>2013.583</td>\n",
       "      <td>2013</td>\n",
       "      <td>8</td>\n",
       "    </tr>\n",
       "    <tr>\n",
       "      <th>3</th>\n",
       "      <td>4</td>\n",
       "      <td>2013.500</td>\n",
       "      <td>13.3</td>\n",
       "      <td>561.98450</td>\n",
       "      <td>5</td>\n",
       "      <td>24.98746</td>\n",
       "      <td>121.54391</td>\n",
       "      <td>54.8</td>\n",
       "      <td>2013.5</td>\n",
       "      <td>2013</td>\n",
       "      <td>8</td>\n",
       "    </tr>\n",
       "    <tr>\n",
       "      <th>4</th>\n",
       "      <td>5</td>\n",
       "      <td>2012.833</td>\n",
       "      <td>5.0</td>\n",
       "      <td>390.56840</td>\n",
       "      <td>5</td>\n",
       "      <td>24.97937</td>\n",
       "      <td>121.54245</td>\n",
       "      <td>43.1</td>\n",
       "      <td>2012.833</td>\n",
       "      <td>2012</td>\n",
       "      <td>2</td>\n",
       "    </tr>\n",
       "  </tbody>\n",
       "</table>\n",
       "</div>"
      ],
      "text/plain": [
       "   No  X1 transaction date  X2 house age  \\\n",
       "0   1             2012.917          32.0   \n",
       "1   2             2012.917          19.5   \n",
       "2   3             2013.583          13.3   \n",
       "3   4             2013.500          13.3   \n",
       "4   5             2012.833           5.0   \n",
       "\n",
       "   X3 distance to the nearest MRT station  X4 number of convenience stores  \\\n",
       "0                                84.87882                               10   \n",
       "1                               306.59470                                9   \n",
       "2                               561.98450                                5   \n",
       "3                               561.98450                                5   \n",
       "4                               390.56840                                5   \n",
       "\n",
       "   X5 latitude  X6 longitude  Y house price of unit area      date  year  \\\n",
       "0     24.98298     121.54024                        37.9  2012.917  2012   \n",
       "1     24.98034     121.53951                        42.2  2012.917  2012   \n",
       "2     24.98746     121.54391                        47.3  2013.583  2013   \n",
       "3     24.98746     121.54391                        54.8    2013.5  2013   \n",
       "4     24.97937     121.54245                        43.1  2012.833  2012   \n",
       "\n",
       "   month  \n",
       "0      6  \n",
       "1      6  \n",
       "2      8  \n",
       "3      8  \n",
       "4      2  "
      ]
     },
     "execution_count": 37,
     "metadata": {},
     "output_type": "execute_result"
    }
   ],
   "source": [
    "df.head()"
   ]
  },
  {
   "cell_type": "code",
   "execution_count": 43,
   "id": "25f170c7",
   "metadata": {},
   "outputs": [
    {
     "data": {
      "text/plain": [
       "<AxesSubplot:xlabel='year'>"
      ]
     },
     "execution_count": 43,
     "metadata": {},
     "output_type": "execute_result"
    },
    {
     "data": {
      "image/png": "[encoded data removed]",
      "text/plain": [
       "<Figure size 432x288 with 1 Axes>"
      ]
     },
     "metadata": {
      "needs_background": "light"
     },
     "output_type": "display_data"
    }
   ],
   "source": [
    "df.groupby('year')['Y house price of unit area'].count().plot.bar()"
   ]
  },
  {
   "cell_type": "code",
   "execution_count": 46,
   "id": "b8ef4043",
   "metadata": {},
   "outputs": [
    {
     "data": {
      "text/plain": [
       "No                                          int64\n",
       "X1 transaction date                       float64\n",
       "X2 house age                              float64\n",
       "X3 distance to the nearest MRT station    float64\n",
       "X4 number of convenience stores             int64\n",
       "X5 latitude                               float64\n",
       "X6 longitude                              float64\n",
       "Y house price of unit area                float64\n",
       "date                                       object\n",
       "year                                        int32\n",
       "month                                       int64\n",
       "dtype: object"
      ]
     },
     "execution_count": 46,
     "metadata": {},
     "output_type": "execute_result"
    }
   ],
   "source": [
    "df.dtypes"
   ]
  },
  {
   "cell_type": "code",
   "execution_count": 45,
   "id": "32e7dc42",
   "metadata": {},
   "outputs": [],
   "source": [
    "df['year'] = df['year'].astype(int)"
   ]
  },
  {
   "cell_type": "code",
   "execution_count": 47,
   "id": "5ec96203",
   "metadata": {},
   "outputs": [],
   "source": [
    "df['year'] = np.where(df['year'] == 2013, 1 ,0)"
   ]
  },
  {
   "cell_type": "code",
   "execution_count": 48,
   "id": "412b3f74",
   "metadata": {},
   "outputs": [
    {
     "data": {
      "text/html": [
       "<div>\n",
       "<style scoped>\n",
       "    .dataframe tbody tr th:only-of-type {\n",
       "        vertical-align: middle;\n",
       "    }\n",
       "\n",
       "    .dataframe tbody tr th {\n",
       "        vertical-align: top;\n",
       "    }\n",
       "\n",
       "    .dataframe thead th {\n",
       "        text-align: right;\n",
       "    }\n",
       "</style>\n",
       "<table border=\"1\" class=\"dataframe\">\n",
       "  <thead>\n",
       "    <tr style=\"text-align: right;\">\n",
       "      <th></th>\n",
       "      <th>No</th>\n",
       "      <th>X1 transaction date</th>\n",
       "      <th>X2 house age</th>\n",
       "      <th>X3 distance to the nearest MRT station</th>\n",
       "      <th>X4 number of convenience stores</th>\n",
       "      <th>X5 latitude</th>\n",
       "      <th>X6 longitude</th>\n",
       "      <th>Y house price of unit area</th>\n",
       "      <th>date</th>\n",
       "      <th>year</th>\n",
       "      <th>month</th>\n",
       "    </tr>\n",
       "  </thead>\n",
       "  <tbody>\n",
       "    <tr>\n",
       "      <th>0</th>\n",
       "      <td>1</td>\n",
       "      <td>2012.917</td>\n",
       "      <td>32.0</td>\n",
       "      <td>84.87882</td>\n",
       "      <td>10</td>\n",
       "      <td>24.98298</td>\n",
       "      <td>121.54024</td>\n",
       "      <td>37.9</td>\n",
       "      <td>2012.917</td>\n",
       "      <td>0</td>\n",
       "      <td>6</td>\n",
       "    </tr>\n",
       "    <tr>\n",
       "      <th>1</th>\n",
       "      <td>2</td>\n",
       "      <td>2012.917</td>\n",
       "      <td>19.5</td>\n",
       "      <td>306.59470</td>\n",
       "      <td>9</td>\n",
       "      <td>24.98034</td>\n",
       "      <td>121.53951</td>\n",
       "      <td>42.2</td>\n",
       "      <td>2012.917</td>\n",
       "      <td>0</td>\n",
       "      <td>6</td>\n",
       "    </tr>\n",
       "    <tr>\n",
       "      <th>2</th>\n",
       "      <td>3</td>\n",
       "      <td>2013.583</td>\n",
       "      <td>13.3</td>\n",
       "      <td>561.98450</td>\n",
       "      <td>5</td>\n",
       "      <td>24.98746</td>\n",
       "      <td>121.54391</td>\n",
       "      <td>47.3</td>\n",
       "      <td>2013.583</td>\n",
       "      <td>1</td>\n",
       "      <td>8</td>\n",
       "    </tr>\n",
       "    <tr>\n",
       "      <th>3</th>\n",
       "      <td>4</td>\n",
       "      <td>2013.500</td>\n",
       "      <td>13.3</td>\n",
       "      <td>561.98450</td>\n",
       "      <td>5</td>\n",
       "      <td>24.98746</td>\n",
       "      <td>121.54391</td>\n",
       "      <td>54.8</td>\n",
       "      <td>2013.5</td>\n",
       "      <td>1</td>\n",
       "      <td>8</td>\n",
       "    </tr>\n",
       "    <tr>\n",
       "      <th>4</th>\n",
       "      <td>5</td>\n",
       "      <td>2012.833</td>\n",
       "      <td>5.0</td>\n",
       "      <td>390.56840</td>\n",
       "      <td>5</td>\n",
       "      <td>24.97937</td>\n",
       "      <td>121.54245</td>\n",
       "      <td>43.1</td>\n",
       "      <td>2012.833</td>\n",
       "      <td>0</td>\n",
       "      <td>2</td>\n",
       "    </tr>\n",
       "  </tbody>\n",
       "</table>\n",
       "</div>"
      ],
      "text/plain": [
       "   No  X1 transaction date  X2 house age  \\\n",
       "0   1             2012.917          32.0   \n",
       "1   2             2012.917          19.5   \n",
       "2   3             2013.583          13.3   \n",
       "3   4             2013.500          13.3   \n",
       "4   5             2012.833           5.0   \n",
       "\n",
       "   X3 distance to the nearest MRT station  X4 number of convenience stores  \\\n",
       "0                                84.87882                               10   \n",
       "1                               306.59470                                9   \n",
       "2                               561.98450                                5   \n",
       "3                               561.98450                                5   \n",
       "4                               390.56840                                5   \n",
       "\n",
       "   X5 latitude  X6 longitude  Y house price of unit area      date  year  \\\n",
       "0     24.98298     121.54024                        37.9  2012.917     0   \n",
       "1     24.98034     121.53951                        42.2  2012.917     0   \n",
       "2     24.98746     121.54391                        47.3  2013.583     1   \n",
       "3     24.98746     121.54391                        54.8    2013.5     1   \n",
       "4     24.97937     121.54245                        43.1  2012.833     0   \n",
       "\n",
       "   month  \n",
       "0      6  \n",
       "1      6  \n",
       "2      8  \n",
       "3      8  \n",
       "4      2  "
      ]
     },
     "execution_count": 48,
     "metadata": {},
     "output_type": "execute_result"
    }
   ],
   "source": [
    "df.head()"
   ]
  },
  {
   "cell_type": "code",
   "execution_count": 51,
   "id": "0b9ac6ac",
   "metadata": {},
   "outputs": [
    {
     "data": {
      "image/png": "[encoded data removed]",
      "text/plain": [
       "<Figure size 432x288 with 1 Axes>"
      ]
     },
     "metadata": {
      "needs_background": "light"
     },
     "output_type": "display_data"
    }
   ],
   "source": [
    "plt.scatter(df['X3 distance to the nearest MRT station'], df['Y house price of unit area'], s = 3)\n",
    "plt.xlabel('distance to the nearest MRT station')\n",
    "plt.ylabel('house price of unit area')\n",
    "plt.show()"
   ]
  },
  {
   "cell_type": "code",
   "execution_count": 52,
   "id": "3cc6292b",
   "metadata": {},
   "outputs": [
    {
     "data": {
      "text/plain": [
       "<AxesSubplot:ylabel='Frequency'>"
      ]
     },
     "execution_count": 52,
     "metadata": {},
     "output_type": "execute_result"
    },
    {
     "data": {
      "image/png": "[encoded data removed]",
      "text/plain": [
       "<Figure size 432x288 with 1 Axes>"
      ]
     },
     "metadata": {
      "needs_background": "light"
     },
     "output_type": "display_data"
    }
   ],
   "source": [
    "df['Y house price of unit area'].plot.hist(bins = 25)"
   ]
  },
  {
   "cell_type": "code",
   "execution_count": 53,
   "id": "af50c8d2",
   "metadata": {},
   "outputs": [
    {
     "data": {
      "text/html": [
       "<div>\n",
       "<style scoped>\n",
       "    .dataframe tbody tr th:only-of-type {\n",
       "        vertical-align: middle;\n",
       "    }\n",
       "\n",
       "    .dataframe tbody tr th {\n",
       "        vertical-align: top;\n",
       "    }\n",
       "\n",
       "    .dataframe thead th {\n",
       "        text-align: right;\n",
       "    }\n",
       "</style>\n",
       "<table border=\"1\" class=\"dataframe\">\n",
       "  <thead>\n",
       "    <tr style=\"text-align: right;\">\n",
       "      <th></th>\n",
       "      <th>No</th>\n",
       "      <th>X1 transaction date</th>\n",
       "      <th>X2 house age</th>\n",
       "      <th>X3 distance to the nearest MRT station</th>\n",
       "      <th>X4 number of convenience stores</th>\n",
       "      <th>X5 latitude</th>\n",
       "      <th>X6 longitude</th>\n",
       "      <th>Y house price of unit area</th>\n",
       "      <th>date</th>\n",
       "      <th>year</th>\n",
       "      <th>month</th>\n",
       "    </tr>\n",
       "  </thead>\n",
       "  <tbody>\n",
       "    <tr>\n",
       "      <th>270</th>\n",
       "      <td>271</td>\n",
       "      <td>2013.333</td>\n",
       "      <td>10.8</td>\n",
       "      <td>252.5822</td>\n",
       "      <td>1</td>\n",
       "      <td>24.9746</td>\n",
       "      <td>121.53046</td>\n",
       "      <td>117.5</td>\n",
       "      <td>2013.333</td>\n",
       "      <td>1</td>\n",
       "      <td>4</td>\n",
       "    </tr>\n",
       "  </tbody>\n",
       "</table>\n",
       "</div>"
      ],
      "text/plain": [
       "      No  X1 transaction date  X2 house age  \\\n",
       "270  271             2013.333          10.8   \n",
       "\n",
       "     X3 distance to the nearest MRT station  X4 number of convenience stores  \\\n",
       "270                                252.5822                                1   \n",
       "\n",
       "     X5 latitude  X6 longitude  Y house price of unit area      date  year  \\\n",
       "270      24.9746     121.53046                       117.5  2013.333     1   \n",
       "\n",
       "     month  \n",
       "270      4  "
      ]
     },
     "execution_count": 53,
     "metadata": {},
     "output_type": "execute_result"
    }
   ],
   "source": [
    "df.loc[df['Y house price of unit area'] > 85]"
   ]
  },
  {
   "cell_type": "code",
   "execution_count": 56,
   "id": "8aa40726",
   "metadata": {},
   "outputs": [],
   "source": [
    "df['Y house price of unit area'] = np.where(df['Y house price of unit area'] > 85, df['Y house price of unit area'].median(), df['Y house price of unit area'])"
   ]
  },
  {
   "cell_type": "code",
   "execution_count": 57,
   "id": "0ced7866",
   "metadata": {},
   "outputs": [
    {
     "data": {
      "text/plain": [
       "<AxesSubplot:ylabel='Frequency'>"
      ]
     },
     "execution_count": 57,
     "metadata": {},
     "output_type": "execute_result"
    },
    {
     "data": {
      "image/png": "[encoded data removed]",
      "text/plain": [
       "<Figure size 432x288 with 1 Axes>"
      ]
     },
     "metadata": {
      "needs_background": "light"
     },
     "output_type": "display_data"
    }
   ],
   "source": [
    "df['Y house price of unit area'].plot.hist(bins = 25)"
   ]
  },
  {
   "cell_type": "code",
   "execution_count": 58,
   "id": "9ec0f65d",
   "metadata": {},
   "outputs": [],
   "source": [
    "from geopy.geocoders import Nominatim\n",
    "geolocator = Nominatim(user_agent=\"geoapiExercises\")"
   ]
  },
  {
   "cell_type": "code",
   "execution_count": 59,
   "id": "b9fd15a1",
   "metadata": {},
   "outputs": [],
   "source": [
    "df['geom'] = df['X5 latitude'].map(str) + ',' + df['X6 longitude'].map(str)"
   ]
  },
  {
   "cell_type": "code",
   "execution_count": 60,
   "id": "aada82e3",
   "metadata": {},
   "outputs": [
    {
     "data": {
      "text/html": [
       "<div>\n",
       "<style scoped>\n",
       "    .dataframe tbody tr th:only-of-type {\n",
       "        vertical-align: middle;\n",
       "    }\n",
       "\n",
       "    .dataframe tbody tr th {\n",
       "        vertical-align: top;\n",
       "    }\n",
       "\n",
       "    .dataframe thead th {\n",
       "        text-align: right;\n",
       "    }\n",
       "</style>\n",
       "<table border=\"1\" class=\"dataframe\">\n",
       "  <thead>\n",
       "    <tr style=\"text-align: right;\">\n",
       "      <th></th>\n",
       "      <th>No</th>\n",
       "      <th>X1 transaction date</th>\n",
       "      <th>X2 house age</th>\n",
       "      <th>X3 distance to the nearest MRT station</th>\n",
       "      <th>X4 number of convenience stores</th>\n",
       "      <th>X5 latitude</th>\n",
       "      <th>X6 longitude</th>\n",
       "      <th>Y house price of unit area</th>\n",
       "      <th>date</th>\n",
       "      <th>year</th>\n",
       "      <th>month</th>\n",
       "      <th>geom</th>\n",
       "    </tr>\n",
       "  </thead>\n",
       "  <tbody>\n",
       "    <tr>\n",
       "      <th>0</th>\n",
       "      <td>1</td>\n",
       "      <td>2012.917</td>\n",
       "      <td>32.0</td>\n",
       "      <td>84.87882</td>\n",
       "      <td>10</td>\n",
       "      <td>24.98298</td>\n",
       "      <td>121.54024</td>\n",
       "      <td>37.9</td>\n",
       "      <td>2012.917</td>\n",
       "      <td>0</td>\n",
       "      <td>6</td>\n",
       "      <td>24.98298,121.54024</td>\n",
       "    </tr>\n",
       "    <tr>\n",
       "      <th>1</th>\n",
       "      <td>2</td>\n",
       "      <td>2012.917</td>\n",
       "      <td>19.5</td>\n",
       "      <td>306.59470</td>\n",
       "      <td>9</td>\n",
       "      <td>24.98034</td>\n",
       "      <td>121.53951</td>\n",
       "      <td>42.2</td>\n",
       "      <td>2012.917</td>\n",
       "      <td>0</td>\n",
       "      <td>6</td>\n",
       "      <td>24.98034,121.53951</td>\n",
       "    </tr>\n",
       "    <tr>\n",
       "      <th>2</th>\n",
       "      <td>3</td>\n",
       "      <td>2013.583</td>\n",
       "      <td>13.3</td>\n",
       "      <td>561.98450</td>\n",
       "      <td>5</td>\n",
       "      <td>24.98746</td>\n",
       "      <td>121.54391</td>\n",
       "      <td>47.3</td>\n",
       "      <td>2013.583</td>\n",
       "      <td>1</td>\n",
       "      <td>8</td>\n",
       "      <td>24.98746,121.54391</td>\n",
       "    </tr>\n",
       "    <tr>\n",
       "      <th>3</th>\n",
       "      <td>4</td>\n",
       "      <td>2013.500</td>\n",
       "      <td>13.3</td>\n",
       "      <td>561.98450</td>\n",
       "      <td>5</td>\n",
       "      <td>24.98746</td>\n",
       "      <td>121.54391</td>\n",
       "      <td>54.8</td>\n",
       "      <td>2013.5</td>\n",
       "      <td>1</td>\n",
       "      <td>8</td>\n",
       "      <td>24.98746,121.54391</td>\n",
       "    </tr>\n",
       "    <tr>\n",
       "      <th>4</th>\n",
       "      <td>5</td>\n",
       "      <td>2012.833</td>\n",
       "      <td>5.0</td>\n",
       "      <td>390.56840</td>\n",
       "      <td>5</td>\n",
       "      <td>24.97937</td>\n",
       "      <td>121.54245</td>\n",
       "      <td>43.1</td>\n",
       "      <td>2012.833</td>\n",
       "      <td>0</td>\n",
       "      <td>2</td>\n",
       "      <td>24.97937,121.54245</td>\n",
       "    </tr>\n",
       "  </tbody>\n",
       "</table>\n",
       "</div>"
      ],
      "text/plain": [
       "   No  X1 transaction date  X2 house age  \\\n",
       "0   1             2012.917          32.0   \n",
       "1   2             2012.917          19.5   \n",
       "2   3             2013.583          13.3   \n",
       "3   4             2013.500          13.3   \n",
       "4   5             2012.833           5.0   \n",
       "\n",
       "   X3 distance to the nearest MRT station  X4 number of convenience stores  \\\n",
       "0                                84.87882                               10   \n",
       "1                               306.59470                                9   \n",
       "2                               561.98450                                5   \n",
       "3                               561.98450                                5   \n",
       "4                               390.56840                                5   \n",
       "\n",
       "   X5 latitude  X6 longitude  Y house price of unit area      date  year  \\\n",
       "0     24.98298     121.54024                        37.9  2012.917     0   \n",
       "1     24.98034     121.53951                        42.2  2012.917     0   \n",
       "2     24.98746     121.54391                        47.3  2013.583     1   \n",
       "3     24.98746     121.54391                        54.8    2013.5     1   \n",
       "4     24.97937     121.54245                        43.1  2012.833     0   \n",
       "\n",
       "   month                geom  \n",
       "0      6  24.98298,121.54024  \n",
       "1      6  24.98034,121.53951  \n",
       "2      8  24.98746,121.54391  \n",
       "3      8  24.98746,121.54391  \n",
       "4      2  24.97937,121.54245  "
      ]
     },
     "execution_count": 60,
     "metadata": {},
     "output_type": "execute_result"
    }
   ],
   "source": [
    "df.head()"
   ]
  },
  {
   "cell_type": "code",
   "execution_count": 61,
   "id": "a200b62c",
   "metadata": {},
   "outputs": [],
   "source": [
    "def locator(coordinate):\n",
    "    location = geolocator.reverse(coordinate)\n",
    "    return(location)"
   ]
  },
  {
   "cell_type": "code",
   "execution_count": 62,
   "id": "a3e75574",
   "metadata": {},
   "outputs": [],
   "source": [
    "df['location'] = df.apply(lambda x : locator(x['geom']), axis = 1)"
   ]
  },
  {
   "cell_type": "code",
   "execution_count": 63,
   "id": "3ce4d59e",
   "metadata": {},
   "outputs": [
    {
     "data": {
      "text/html": [
       "<div>\n",
       "<style scoped>\n",
       "    .dataframe tbody tr th:only-of-type {\n",
       "        vertical-align: middle;\n",
       "    }\n",
       "\n",
       "    .dataframe tbody tr th {\n",
       "        vertical-align: top;\n",
       "    }\n",
       "\n",
       "    .dataframe thead th {\n",
       "        text-align: right;\n",
       "    }\n",
       "</style>\n",
       "<table border=\"1\" class=\"dataframe\">\n",
       "  <thead>\n",
       "    <tr style=\"text-align: right;\">\n",
       "      <th></th>\n",
       "      <th>No</th>\n",
       "      <th>X1 transaction date</th>\n",
       "      <th>X2 house age</th>\n",
       "      <th>X3 distance to the nearest MRT station</th>\n",
       "      <th>X4 number of convenience stores</th>\n",
       "      <th>X5 latitude</th>\n",
       "      <th>X6 longitude</th>\n",
       "      <th>Y house price of unit area</th>\n",
       "      <th>date</th>\n",
       "      <th>year</th>\n",
       "      <th>month</th>\n",
       "      <th>geom</th>\n",
       "      <th>location</th>\n",
       "    </tr>\n",
       "  </thead>\n",
       "  <tbody>\n",
       "    <tr>\n",
       "      <th>0</th>\n",
       "      <td>1</td>\n",
       "      <td>2012.917</td>\n",
       "      <td>32.0</td>\n",
       "      <td>84.87882</td>\n",
       "      <td>10</td>\n",
       "      <td>24.98298</td>\n",
       "      <td>121.54024</td>\n",
       "      <td>37.9</td>\n",
       "      <td>2012.917</td>\n",
       "      <td>0</td>\n",
       "      <td>6</td>\n",
       "      <td>24.98298,121.54024</td>\n",
       "      <td>(44-2, 民權路, 復興里, 新店區, 大坪林, 新北市, 23141, 臺灣, (24...</td>\n",
       "    </tr>\n",
       "    <tr>\n",
       "      <th>1</th>\n",
       "      <td>2</td>\n",
       "      <td>2012.917</td>\n",
       "      <td>19.5</td>\n",
       "      <td>306.59470</td>\n",
       "      <td>9</td>\n",
       "      <td>24.98034</td>\n",
       "      <td>121.53951</td>\n",
       "      <td>42.2</td>\n",
       "      <td>2012.917</td>\n",
       "      <td>0</td>\n",
       "      <td>6</td>\n",
       "      <td>24.98034,121.53951</td>\n",
       "      <td>(12, 大豐路, 大同里, 新店區, 大坪林, 新北市, 231, 臺灣, (24.979...</td>\n",
       "    </tr>\n",
       "    <tr>\n",
       "      <th>2</th>\n",
       "      <td>3</td>\n",
       "      <td>2013.583</td>\n",
       "      <td>13.3</td>\n",
       "      <td>561.98450</td>\n",
       "      <td>5</td>\n",
       "      <td>24.98746</td>\n",
       "      <td>121.54391</td>\n",
       "      <td>47.3</td>\n",
       "      <td>2013.583</td>\n",
       "      <td>1</td>\n",
       "      <td>8</td>\n",
       "      <td>24.98746,121.54391</td>\n",
       "      <td>(寶安宮, 景美溪左岸自行車道, 信義里, 新店區, 大坪林, 新北市, 11669, 臺灣...</td>\n",
       "    </tr>\n",
       "    <tr>\n",
       "      <th>3</th>\n",
       "      <td>4</td>\n",
       "      <td>2013.500</td>\n",
       "      <td>13.3</td>\n",
       "      <td>561.98450</td>\n",
       "      <td>5</td>\n",
       "      <td>24.98746</td>\n",
       "      <td>121.54391</td>\n",
       "      <td>54.8</td>\n",
       "      <td>2013.5</td>\n",
       "      <td>1</td>\n",
       "      <td>8</td>\n",
       "      <td>24.98746,121.54391</td>\n",
       "      <td>(寶安宮, 景美溪左岸自行車道, 信義里, 新店區, 大坪林, 新北市, 11669, 臺灣...</td>\n",
       "    </tr>\n",
       "    <tr>\n",
       "      <th>4</th>\n",
       "      <td>5</td>\n",
       "      <td>2012.833</td>\n",
       "      <td>5.0</td>\n",
       "      <td>390.56840</td>\n",
       "      <td>5</td>\n",
       "      <td>24.97937</td>\n",
       "      <td>121.54245</td>\n",
       "      <td>43.1</td>\n",
       "      <td>2012.833</td>\n",
       "      <td>0</td>\n",
       "      <td>2</td>\n",
       "      <td>24.97937,121.54245</td>\n",
       "      <td>(惠安診所, 北新路三段, 寶安里, 新店區, 大坪林, 新北市, 23141, 臺灣, (...</td>\n",
       "    </tr>\n",
       "  </tbody>\n",
       "</table>\n",
       "</div>"
      ],
      "text/plain": [
       "   No  X1 transaction date  X2 house age  \\\n",
       "0   1             2012.917          32.0   \n",
       "1   2             2012.917          19.5   \n",
       "2   3             2013.583          13.3   \n",
       "3   4             2013.500          13.3   \n",
       "4   5             2012.833           5.0   \n",
       "\n",
       "   X3 distance to the nearest MRT station  X4 number of convenience stores  \\\n",
       "0                                84.87882                               10   \n",
       "1                               306.59470                                9   \n",
       "2                               561.98450                                5   \n",
       "3                               561.98450                                5   \n",
       "4                               390.56840                                5   \n",
       "\n",
       "   X5 latitude  X6 longitude  Y house price of unit area      date  year  \\\n",
       "0     24.98298     121.54024                        37.9  2012.917     0   \n",
       "1     24.98034     121.53951                        42.2  2012.917     0   \n",
       "2     24.98746     121.54391                        47.3  2013.583     1   \n",
       "3     24.98746     121.54391                        54.8    2013.5     1   \n",
       "4     24.97937     121.54245                        43.1  2012.833     0   \n",
       "\n",
       "   month                geom  \\\n",
       "0      6  24.98298,121.54024   \n",
       "1      6  24.98034,121.53951   \n",
       "2      8  24.98746,121.54391   \n",
       "3      8  24.98746,121.54391   \n",
       "4      2  24.97937,121.54245   \n",
       "\n",
       "                                            location  \n",
       "0  (44-2, 民權路, 復興里, 新店區, 大坪林, 新北市, 23141, 臺灣, (24...  \n",
       "1  (12, 大豐路, 大同里, 新店區, 大坪林, 新北市, 231, 臺灣, (24.979...  \n",
       "2  (寶安宮, 景美溪左岸自行車道, 信義里, 新店區, 大坪林, 新北市, 11669, 臺灣...  \n",
       "3  (寶安宮, 景美溪左岸自行車道, 信義里, 新店區, 大坪林, 新北市, 11669, 臺灣...  \n",
       "4  (惠安診所, 北新路三段, 寶安里, 新店區, 大坪林, 新北市, 23141, 臺灣, (...  "
      ]
     },
     "execution_count": 63,
     "metadata": {},
     "output_type": "execute_result"
    }
   ],
   "source": [
    "df.head()"
   ]
  },
  {
   "cell_type": "code",
   "execution_count": 65,
   "id": "237affc2",
   "metadata": {},
   "outputs": [],
   "source": [
    "df['chcity'] = df['location'].astype(str)"
   ]
  },
  {
   "cell_type": "code",
   "execution_count": 66,
   "id": "9fe65e98",
   "metadata": {},
   "outputs": [],
   "source": [
    "df['chcity'] = df['chcity'].apply(lambda x : x[::-1])"
   ]
  },
  {
   "cell_type": "code",
   "execution_count": 70,
   "id": "863883e5",
   "metadata": {},
   "outputs": [
    {
     "data": {
      "text/plain": [
       "No                                          int64\n",
       "X1 transaction date                       float64\n",
       "X2 house age                              float64\n",
       "X3 distance to the nearest MRT station    float64\n",
       "X4 number of convenience stores             int64\n",
       "X5 latitude                               float64\n",
       "X6 longitude                              float64\n",
       "Y house price of unit area                float64\n",
       "date                                       object\n",
       "year                                        int32\n",
       "month                                       int64\n",
       "geom                                       object\n",
       "location                                   object\n",
       "chcity                                     object\n",
       "dtype: object"
      ]
     },
     "execution_count": 70,
     "metadata": {},
     "output_type": "execute_result"
    }
   ],
   "source": [
    "df.dtypes"
   ]
  },
  {
   "cell_type": "code",
   "execution_count": 75,
   "id": "5f93c7f6",
   "metadata": {},
   "outputs": [],
   "source": [
    "df['city'] = df['chcity'].str.split(',', expand = True)[2]"
   ]
  },
  {
   "cell_type": "code",
   "execution_count": 77,
   "id": "d2ce8680",
   "metadata": {},
   "outputs": [
    {
     "name": "stderr",
     "output_type": "stream",
     "text": [
      "Using India server backend.\n"
     ]
    }
   ],
   "source": [
    "import translators as ts"
   ]
  },
  {
   "cell_type": "code",
   "execution_count": 82,
   "id": "04b8e56f",
   "metadata": {},
   "outputs": [],
   "source": [
    "df['city'] = df.apply(lambda x: ts.google(str(x['location']), from_language = 'zh-CN', to_language = 'en'), axis = 1)"
   ]
  },
  {
   "cell_type": "code",
   "execution_count": 121,
   "id": "f476c47f",
   "metadata": {},
   "outputs": [
    {
     "data": {
      "text/plain": [
       "0                            44-2, Civil Rights Road, Fuxi, Xinxian District, Datapin, Xinbei City, 23141, Taiwan\n",
       "1                                    12, Dafeng Road, Datong, Xinxian District, Datapin, Xinbei City, 231, Taiwan\n",
       "2    Baoan Palace, Jingmei left bank bicycle lane, Xinyi, Xinxian District, Dachedlin, Xinbei City, 11669, Taiwan\n",
       "3    Baoan Palace, Jingmei left bank bicycle lane, Xinyi, Xinxian District, Dachedlin, Xinbei City, 11669, Taiwan\n",
       "4                   Hui'an Clinic, North New Road, Baoanli, Xinxian District, Datapin, Xinbei City, 23141, Taiwan\n",
       "Name: city, dtype: object"
      ]
     },
     "execution_count": 121,
     "metadata": {},
     "output_type": "execute_result"
    }
   ],
   "source": [
    "pd.set_option('max_colwidth', None)\n",
    "df['city'].head()"
   ]
  },
  {
   "cell_type": "code",
   "execution_count": 144,
   "id": "41ee456f",
   "metadata": {},
   "outputs": [],
   "source": [
    "df['citynew'] = df['city'].str.split(', ')"
   ]
  },
  {
   "cell_type": "code",
   "execution_count": 145,
   "id": "2a390562",
   "metadata": {},
   "outputs": [
    {
     "data": {
      "text/plain": [
       "No                                          int64\n",
       "X1 transaction date                       float64\n",
       "X2 house age                              float64\n",
       "X3 distance to the nearest MRT station    float64\n",
       "X4 number of convenience stores             int64\n",
       "X5 latitude                               float64\n",
       "X6 longitude                              float64\n",
       "Y house price of unit area                float64\n",
       "date                                       object\n",
       "year                                        int32\n",
       "month                                       int64\n",
       "geom                                       object\n",
       "location                                   object\n",
       "chcity                                     object\n",
       "city                                       object\n",
       "cityfinal                                  object\n",
       "citynew                                    object\n",
       "dtype: object"
      ]
     },
     "execution_count": 145,
     "metadata": {},
     "output_type": "execute_result"
    }
   ],
   "source": [
    "df.dtypes"
   ]
  },
  {
   "cell_type": "code",
   "execution_count": 319,
   "id": "7d065868",
   "metadata": {},
   "outputs": [
    {
     "data": {
      "text/plain": [
       "0                                                         44-2, Civil Rights Road, Fuxi, Xinxian District, Datapin, Xinbei City, 23141, Taiwan\n",
       "1                                                                 12, Dafeng Road, Datong, Xinxian District, Datapin, Xinbei City, 231, Taiwan\n",
       "2                                 Baoan Palace, Jingmei left bank bicycle lane, Xinyi, Xinxian District, Dachedlin, Xinbei City, 11669, Taiwan\n",
       "3                                 Baoan Palace, Jingmei left bank bicycle lane, Xinyi, Xinxian District, Dachedlin, Xinbei City, 11669, Taiwan\n",
       "4                                                Hui'an Clinic, North New Road, Baoanli, Xinxian District, Datapin, Xinbei City, 23141, Taiwan\n",
       "5                                  New North Ankang Market, 2nd Section of Ankang Road, Lagan, Xinxian District, New North City, 23159, Taiwan\n",
       "6                                                        Ten Road 129 Lane 1, Dafeng Li, Xinxian District, Datapin, Xinbei City, 23148, Taiwan\n",
       "7                              Da Pinglin Cultural Market, Baoan Street 16th, Baoanli, Xinxian District, Dachedlin, Xinbei City, 23141, Taiwan\n",
       "8                                                                                    Rhizhi, New Shore District, New North City, 23155, Taiwan\n",
       "9                                               And Human Middle School, 1, Anxing Road, Anhe, Xinxian District, New North City, 23159, Taiwan\n",
       "10                                                Sanmin Shuifu, Sanmin Road, Fumin, Xinxian District, Da Pingslin, Xinbei City, 23149, Taiwan\n",
       "11                            North New First Building, Baoqiao Road 1 Lane, Xin'anli, Xinxian District, Dachedlin, Xinbei City, 23145, Taiwan\n",
       "12                                                         148, Huanhe Road, Zhonghua Li, Xinxian District, Da Pings, Xinbei City, 231, Taiwan\n",
       "13                                                 Market, 71 Alley, Ande Street, Anchangry, New Shore District, New North City, 23159, Taiwan\n",
       "14                                           Dapeng Huacheng, Zhongzheng Road, Dapengry, New Shop District, Xirang, Xinbei City, 11671, Taiwan\n",
       "15                                                  Mei Honest, Baoyuan Road, Baoxing, Xinxian District, Dachedlin, Xinbei City, 23144, Taiwan\n",
       "16                                                    34, Baodong Road 85 Lane, Baoxingli, Xinxian District, Datapin, Xinbei City, 231, Taiwan\n",
       "17                               New shop High School, Central Road, Zhongshan, New Shore District, Daoping Forest, Xinbei City, 23150, Taiwan\n",
       "18                                  Zhangjia Xiaoluan, Daxin Street 7th Lane, Wufeng Li, Xinxian District, Datapin, Xinbei City, 23146, Taiwan\n",
       "19                                 Hakka Booth, North Xinji, 297 Lane, New Delhi, New Shore District, Dachedlin, New North City, 23147, Taiwan\n",
       "20                                       Fengrong Hospital, Andon Street 60 Lane, Anchangry, New Shore District, New North City, 23159, Taiwan\n",
       "21                                                       Baoqiao Road 73 Lane, Xin'anli, Xinxian District, Datapin, Xinbei City, 23145, Taiwan\n",
       "22                                          No. 17 Alley, 2nd Section of Beibei Road, Qingtan, Xinxian District, New North City, 23152, Taiwan\n",
       "23                                                       Baoqiao Road 73 Lane, Xin'anli, Xinxian District, Datapin, Xinbei City, 23145, Taiwan\n",
       "24    Zhonghua Telecom New Store Zhongzheng Service Center, Zhongzheng Road, Zhongzhengli, Xinxian District, Datapin, Xinbei City, 231, Taiwan\n",
       "25                                               Lairfu New Shop Tianxi, Anmin Street, Anheli, Xinxian District, New North City, 23159, Taiwan\n",
       "26                                                    No. 177, Zuxing Road, Baoanli, New Shore District, Dachedlin, Xinbei City, 23144, Taiwan\n",
       "27                                            Wenshan Nationality, 38, Wen Zhong Road, Wenzhong, Xinxian District, New North City, 231, Taiwan\n",
       "28                              Yongfeng Commercial Bank, 290, Zhongzheng Road, Ren'ai Li, Xinxian District, Datapin, Xinbei City, 231, Taiwan\n",
       "29                                       Baodong Zhongxing Road, Baoqiao Road, Baofu Li, Xinxian District, Datapin, Xinbei City, 23145, Taiwan\n",
       "30                                                        Ben Shi District, Rose Road, Rose, New Shore District, New North City, 23156, Taiwan\n",
       "31                                                Tangled Donghe Baozi, Civil Right Road, Fuxi, New Shop, Datapin, Xinbei City, 231632, Taiwan\n",
       "32                                        Zhongzheng Road 329 Lane, Hundreds of Return, New Shop District, Datapin, Xinbei City, 23148, Taiwan\n",
       "33                            Taipei Fubang Commercial Bank, 266, North New Road, New Anl, Xinxian District, Datapin, Xinbei City, 231, Taiwan\n",
       "34                          Bai Di City Exquisite Shabu, 257 1, Zhongxing Road 3, Xinyi, Xinxian District, Dachedlin, Xinbei City, 231, Taiwan\n",
       "35                                                                            Alley, Fuxi, Yonghe District, Xizhou, Xinbei City, 23448, Taiwan\n",
       "36                                                 Coco, two sections of Ankang Road, Lagua, New Shore District, New North City, 23159, Taiwan\n",
       "37                                          No. 17 Alley, 2nd Section of Beibei Road, Qingtan, Xinxian District, New North City, 23152, Taiwan\n",
       "38                                               Section of Zhongxing Road, Zhangbei Li, Xinxian District, Datapin, Xinbei City, 23145, Taiwan\n",
       "39                    Kang and Spring and Autumn Building, 221, Zhongxing Road, Baoanli, Xinxian District, Dachedlin, Xinbei City, 231, Taiwan\n",
       "40                                                                          Daguan Road, Daguani, Xinxian District, Xinbei City, 23156, Taiwan\n",
       "41                                                 Daguan Town A3 Station, Daguan Road, Daguanli, Xinxian District, Xinbei City, 23156, Taiwan\n",
       "42                       Mingshi Garden Building, Huanhe Road 80 Lane, Newborn, New Shore District, Dached Forest, New North City, 231, Taiwan\n",
       "43                                Baoan Palace, Jingmei left bank bicycle lane, Xinyi, Xinxian District, Dachedlin, Xinbei City, 11669, Taiwan\n",
       "44                                                Baoxing Road, Zhongxing Road, Baofeng, Xinxian District, Datapin, Xinbei City, 23145, Taiwan\n",
       "45                                                         Zhongzheng Road, Zhangbei Li, Xinxian District, Datapin, Xinbei City, 23146, Taiwan\n",
       "46                                                 Zhongzheng Road 54 Lane, Zhangbei Li, Xinxian District, Datapin, Xinbei City, 23146, Taiwan\n",
       "47                        Nanchuan Early Museum, Zhongzheng Road 334 Lane, Baidi, New Shore District, Dachedlin, New North City, 23148, Taiwan\n",
       "48                                                                   Ruyi Street, auspicious, New Shop District, New North City, 23156, Taiwan\n",
       "49                                                                                     Rose, New Shore District, New North City, 23156, Taiwan\n",
       "Name: city, dtype: object"
      ]
     },
     "execution_count": 319,
     "metadata": {},
     "output_type": "execute_result"
    }
   ],
   "source": [
    "df['city'].head(50)"
   ]
  },
  {
   "cell_type": "code",
   "execution_count": 322,
   "id": "fb7cc3ac",
   "metadata": {},
   "outputs": [
    {
     "data": {
      "text/plain": [
       "Index(['No', 'X1 transaction date', 'X2 house age',\n",
       "       'X3 distance to the nearest MRT station',\n",
       "       'X4 number of convenience stores', 'X5 latitude', 'X6 longitude',\n",
       "       'Y house price of unit area', 'date', 'year', 'month', 'geom',\n",
       "       'location', 'chcity', 'city', 'cityfinal', 'citynew', 'city1'],\n",
       "      dtype='object')"
      ]
     },
     "execution_count": 322,
     "metadata": {},
     "output_type": "execute_result"
    }
   ],
   "source": [
    "df.columns"
   ]
  },
  {
   "cell_type": "code",
   "execution_count": 187,
   "id": "d51d8d14",
   "metadata": {},
   "outputs": [
    {
     "name": "stderr",
     "output_type": "stream",
     "text": [
      "<ipython-input-187-a94b5c647f18>:3: SettingWithCopyWarning: \n",
      "A value is trying to be set on a copy of a slice from a DataFrame\n",
      "\n",
      "See the caveats in the documentation: https://pandas.pydata.org/pandas-docs/stable/user_guide/indexing.html#returning-a-view-versus-a-copy\n",
      "  df['city1'][i] = 1\n",
      "<ipython-input-187-a94b5c647f18>:5: SettingWithCopyWarning: \n",
      "A value is trying to be set on a copy of a slice from a DataFrame\n",
      "\n",
      "See the caveats in the documentation: https://pandas.pydata.org/pandas-docs/stable/user_guide/indexing.html#returning-a-view-versus-a-copy\n",
      "  df['city1'][i] = 0\n"
     ]
    }
   ],
   "source": [
    "for i in range(df.shape[0]):\n",
    "    if df['city'][i].find(\"Xinbei\") != -1:\n",
    "        df['city1'][i] = 1\n",
    "    else:\n",
    "        df['city1'][i] = 0"
   ]
  },
  {
   "cell_type": "code",
   "execution_count": 188,
   "id": "413a2ee7",
   "metadata": {},
   "outputs": [
    {
     "data": {
      "text/plain": [
       "1    251\n",
       "0    163\n",
       "Name: city1, dtype: int64"
      ]
     },
     "execution_count": 188,
     "metadata": {},
     "output_type": "execute_result"
    }
   ],
   "source": [
    "df['city1'].value_counts()"
   ]
  },
  {
   "cell_type": "code",
   "execution_count": 324,
   "id": "a6b3830a",
   "metadata": {},
   "outputs": [
    {
     "name": "stderr",
     "output_type": "stream",
     "text": [
      "<ipython-input-324-31bafbbd2988>:3: SettingWithCopyWarning: \n",
      "A value is trying to be set on a copy of a slice from a DataFrame\n",
      "\n",
      "See the caveats in the documentation: https://pandas.pydata.org/pandas-docs/stable/user_guide/indexing.html#returning-a-view-versus-a-copy\n",
      "  df['geom'][i] = 3\n",
      "<ipython-input-324-31bafbbd2988>:7: SettingWithCopyWarning: \n",
      "A value is trying to be set on a copy of a slice from a DataFrame\n",
      "\n",
      "See the caveats in the documentation: https://pandas.pydata.org/pandas-docs/stable/user_guide/indexing.html#returning-a-view-versus-a-copy\n",
      "  df['geom'][i] = 1\n",
      "<ipython-input-324-31bafbbd2988>:5: SettingWithCopyWarning: \n",
      "A value is trying to be set on a copy of a slice from a DataFrame\n",
      "\n",
      "See the caveats in the documentation: https://pandas.pydata.org/pandas-docs/stable/user_guide/indexing.html#returning-a-view-versus-a-copy\n",
      "  df['geom'][i] = 2\n"
     ]
    }
   ],
   "source": [
    "for i in range(df.shape[0]):\n",
    "    if df['city'][i].find(\"Xinxian\") != -1:\n",
    "        df['geom'][i] = 3\n",
    "    elif df['city'][i].find(\"New Shop\") != -1:\n",
    "        df['geom'][i] = 2\n",
    "    else:\n",
    "        df['geom'][i] = 1"
   ]
  },
  {
   "cell_type": "code",
   "execution_count": 326,
   "id": "03a4e57a",
   "metadata": {},
   "outputs": [
    {
     "data": {
      "text/html": [
       "<div>\n",
       "<style scoped>\n",
       "    .dataframe tbody tr th:only-of-type {\n",
       "        vertical-align: middle;\n",
       "    }\n",
       "\n",
       "    .dataframe tbody tr th {\n",
       "        vertical-align: top;\n",
       "    }\n",
       "\n",
       "    .dataframe thead th {\n",
       "        text-align: right;\n",
       "    }\n",
       "</style>\n",
       "<table border=\"1\" class=\"dataframe\">\n",
       "  <thead>\n",
       "    <tr style=\"text-align: right;\">\n",
       "      <th></th>\n",
       "      <th>city</th>\n",
       "      <th>city1</th>\n",
       "      <th>geom</th>\n",
       "    </tr>\n",
       "  </thead>\n",
       "  <tbody>\n",
       "    <tr>\n",
       "      <th>0</th>\n",
       "      <td>44-2, Civil Rights Road, Fuxi, Xinxian District, Datapin, Xinbei City, 23141, Taiwan</td>\n",
       "      <td>1</td>\n",
       "      <td>3</td>\n",
       "    </tr>\n",
       "    <tr>\n",
       "      <th>1</th>\n",
       "      <td>12, Dafeng Road, Datong, Xinxian District, Datapin, Xinbei City, 231, Taiwan</td>\n",
       "      <td>1</td>\n",
       "      <td>3</td>\n",
       "    </tr>\n",
       "    <tr>\n",
       "      <th>2</th>\n",
       "      <td>Baoan Palace, Jingmei left bank bicycle lane, Xinyi, Xinxian District, Dachedlin, Xinbei City, 11669, Taiwan</td>\n",
       "      <td>1</td>\n",
       "      <td>3</td>\n",
       "    </tr>\n",
       "    <tr>\n",
       "      <th>3</th>\n",
       "      <td>Baoan Palace, Jingmei left bank bicycle lane, Xinyi, Xinxian District, Dachedlin, Xinbei City, 11669, Taiwan</td>\n",
       "      <td>1</td>\n",
       "      <td>3</td>\n",
       "    </tr>\n",
       "    <tr>\n",
       "      <th>4</th>\n",
       "      <td>Hui'an Clinic, North New Road, Baoanli, Xinxian District, Datapin, Xinbei City, 23141, Taiwan</td>\n",
       "      <td>1</td>\n",
       "      <td>3</td>\n",
       "    </tr>\n",
       "    <tr>\n",
       "      <th>5</th>\n",
       "      <td>New North Ankang Market, 2nd Section of Ankang Road, Lagan, Xinxian District, New North City, 23159, Taiwan</td>\n",
       "      <td>0</td>\n",
       "      <td>3</td>\n",
       "    </tr>\n",
       "    <tr>\n",
       "      <th>6</th>\n",
       "      <td>Ten Road 129 Lane 1, Dafeng Li, Xinxian District, Datapin, Xinbei City, 23148, Taiwan</td>\n",
       "      <td>1</td>\n",
       "      <td>3</td>\n",
       "    </tr>\n",
       "    <tr>\n",
       "      <th>7</th>\n",
       "      <td>Da Pinglin Cultural Market, Baoan Street 16th, Baoanli, Xinxian District, Dachedlin, Xinbei City, 23141, Taiwan</td>\n",
       "      <td>1</td>\n",
       "      <td>3</td>\n",
       "    </tr>\n",
       "    <tr>\n",
       "      <th>8</th>\n",
       "      <td>Rhizhi, New Shore District, New North City, 23155, Taiwan</td>\n",
       "      <td>0</td>\n",
       "      <td>1</td>\n",
       "    </tr>\n",
       "    <tr>\n",
       "      <th>9</th>\n",
       "      <td>And Human Middle School, 1, Anxing Road, Anhe, Xinxian District, New North City, 23159, Taiwan</td>\n",
       "      <td>0</td>\n",
       "      <td>3</td>\n",
       "    </tr>\n",
       "  </tbody>\n",
       "</table>\n",
       "</div>"
      ],
      "text/plain": [
       "                                                                                                              city  \\\n",
       "0                             44-2, Civil Rights Road, Fuxi, Xinxian District, Datapin, Xinbei City, 23141, Taiwan   \n",
       "1                                     12, Dafeng Road, Datong, Xinxian District, Datapin, Xinbei City, 231, Taiwan   \n",
       "2     Baoan Palace, Jingmei left bank bicycle lane, Xinyi, Xinxian District, Dachedlin, Xinbei City, 11669, Taiwan   \n",
       "3     Baoan Palace, Jingmei left bank bicycle lane, Xinyi, Xinxian District, Dachedlin, Xinbei City, 11669, Taiwan   \n",
       "4                    Hui'an Clinic, North New Road, Baoanli, Xinxian District, Datapin, Xinbei City, 23141, Taiwan   \n",
       "5      New North Ankang Market, 2nd Section of Ankang Road, Lagan, Xinxian District, New North City, 23159, Taiwan   \n",
       "6                            Ten Road 129 Lane 1, Dafeng Li, Xinxian District, Datapin, Xinbei City, 23148, Taiwan   \n",
       "7  Da Pinglin Cultural Market, Baoan Street 16th, Baoanli, Xinxian District, Dachedlin, Xinbei City, 23141, Taiwan   \n",
       "8                                                        Rhizhi, New Shore District, New North City, 23155, Taiwan   \n",
       "9                   And Human Middle School, 1, Anxing Road, Anhe, Xinxian District, New North City, 23159, Taiwan   \n",
       "\n",
       "   city1 geom  \n",
       "0      1    3  \n",
       "1      1    3  \n",
       "2      1    3  \n",
       "3      1    3  \n",
       "4      1    3  \n",
       "5      0    3  \n",
       "6      1    3  \n",
       "7      1    3  \n",
       "8      0    1  \n",
       "9      0    3  "
      ]
     },
     "execution_count": 326,
     "metadata": {},
     "output_type": "execute_result"
    }
   ],
   "source": [
    "df[['city','city1','geom']].head(10)"
   ]
  },
  {
   "cell_type": "code",
   "execution_count": 327,
   "id": "8502133f",
   "metadata": {},
   "outputs": [
    {
     "data": {
      "text/plain": [
       "Index(['No', 'X1 transaction date', 'X2 house age',\n",
       "       'X3 distance to the nearest MRT station',\n",
       "       'X4 number of convenience stores', 'X5 latitude', 'X6 longitude',\n",
       "       'Y house price of unit area', 'date', 'year', 'month', 'geom',\n",
       "       'location', 'chcity', 'city', 'cityfinal', 'citynew', 'city1'],\n",
       "      dtype='object')"
      ]
     },
     "execution_count": 327,
     "metadata": {},
     "output_type": "execute_result"
    }
   ],
   "source": [
    "df.columns"
   ]
  },
  {
   "cell_type": "code",
   "execution_count": 393,
   "id": "1f391a07",
   "metadata": {},
   "outputs": [],
   "source": [
    "ds = df.drop(['No', 'X1 transaction date', 'date', 'location', 'chcity', 'city', 'cityfinal', 'citynew', 'month'], axis = 1)"
   ]
  },
  {
   "cell_type": "code",
   "execution_count": 394,
   "id": "c6c5feee",
   "metadata": {},
   "outputs": [
    {
     "data": {
      "text/html": [
       "<div>\n",
       "<style scoped>\n",
       "    .dataframe tbody tr th:only-of-type {\n",
       "        vertical-align: middle;\n",
       "    }\n",
       "\n",
       "    .dataframe tbody tr th {\n",
       "        vertical-align: top;\n",
       "    }\n",
       "\n",
       "    .dataframe thead th {\n",
       "        text-align: right;\n",
       "    }\n",
       "</style>\n",
       "<table border=\"1\" class=\"dataframe\">\n",
       "  <thead>\n",
       "    <tr style=\"text-align: right;\">\n",
       "      <th></th>\n",
       "      <th>X2 house age</th>\n",
       "      <th>X3 distance to the nearest MRT station</th>\n",
       "      <th>X4 number of convenience stores</th>\n",
       "      <th>X5 latitude</th>\n",
       "      <th>X6 longitude</th>\n",
       "      <th>Y house price of unit area</th>\n",
       "      <th>year</th>\n",
       "      <th>geom</th>\n",
       "      <th>city1</th>\n",
       "    </tr>\n",
       "  </thead>\n",
       "  <tbody>\n",
       "    <tr>\n",
       "      <th>0</th>\n",
       "      <td>32.0</td>\n",
       "      <td>84.87882</td>\n",
       "      <td>10</td>\n",
       "      <td>24.98298</td>\n",
       "      <td>121.54024</td>\n",
       "      <td>37.9</td>\n",
       "      <td>0</td>\n",
       "      <td>3</td>\n",
       "      <td>1</td>\n",
       "    </tr>\n",
       "    <tr>\n",
       "      <th>1</th>\n",
       "      <td>19.5</td>\n",
       "      <td>306.59470</td>\n",
       "      <td>9</td>\n",
       "      <td>24.98034</td>\n",
       "      <td>121.53951</td>\n",
       "      <td>42.2</td>\n",
       "      <td>0</td>\n",
       "      <td>3</td>\n",
       "      <td>1</td>\n",
       "    </tr>\n",
       "    <tr>\n",
       "      <th>2</th>\n",
       "      <td>13.3</td>\n",
       "      <td>561.98450</td>\n",
       "      <td>5</td>\n",
       "      <td>24.98746</td>\n",
       "      <td>121.54391</td>\n",
       "      <td>47.3</td>\n",
       "      <td>1</td>\n",
       "      <td>3</td>\n",
       "      <td>1</td>\n",
       "    </tr>\n",
       "    <tr>\n",
       "      <th>3</th>\n",
       "      <td>13.3</td>\n",
       "      <td>561.98450</td>\n",
       "      <td>5</td>\n",
       "      <td>24.98746</td>\n",
       "      <td>121.54391</td>\n",
       "      <td>54.8</td>\n",
       "      <td>1</td>\n",
       "      <td>3</td>\n",
       "      <td>1</td>\n",
       "    </tr>\n",
       "    <tr>\n",
       "      <th>4</th>\n",
       "      <td>5.0</td>\n",
       "      <td>390.56840</td>\n",
       "      <td>5</td>\n",
       "      <td>24.97937</td>\n",
       "      <td>121.54245</td>\n",
       "      <td>43.1</td>\n",
       "      <td>0</td>\n",
       "      <td>3</td>\n",
       "      <td>1</td>\n",
       "    </tr>\n",
       "  </tbody>\n",
       "</table>\n",
       "</div>"
      ],
      "text/plain": [
       "   X2 house age  X3 distance to the nearest MRT station  \\\n",
       "0          32.0                                84.87882   \n",
       "1          19.5                               306.59470   \n",
       "2          13.3                               561.98450   \n",
       "3          13.3                               561.98450   \n",
       "4           5.0                               390.56840   \n",
       "\n",
       "   X4 number of convenience stores  X5 latitude  X6 longitude  \\\n",
       "0                               10     24.98298     121.54024   \n",
       "1                                9     24.98034     121.53951   \n",
       "2                                5     24.98746     121.54391   \n",
       "3                                5     24.98746     121.54391   \n",
       "4                                5     24.97937     121.54245   \n",
       "\n",
       "   Y house price of unit area  year geom  city1  \n",
       "0                        37.9     0    3      1  \n",
       "1                        42.2     0    3      1  \n",
       "2                        47.3     1    3      1  \n",
       "3                        54.8     1    3      1  \n",
       "4                        43.1     0    3      1  "
      ]
     },
     "execution_count": 394,
     "metadata": {},
     "output_type": "execute_result"
    }
   ],
   "source": [
    "ds.head()"
   ]
  },
  {
   "cell_type": "code",
   "execution_count": 395,
   "id": "41de33f5",
   "metadata": {},
   "outputs": [
    {
     "data": {
      "text/plain": [
       "0     67\n",
       "5     67\n",
       "1     46\n",
       "3     46\n",
       "6     37\n",
       "4     31\n",
       "7     31\n",
       "8     30\n",
       "9     25\n",
       "2     24\n",
       "10    10\n",
       "Name: X4 number of convenience stores, dtype: int64"
      ]
     },
     "execution_count": 395,
     "metadata": {},
     "output_type": "execute_result"
    }
   ],
   "source": [
    "ds['X4 number of convenience stores'].value_counts()"
   ]
  },
  {
   "cell_type": "code",
   "execution_count": 396,
   "id": "dc6bf6e2",
   "metadata": {},
   "outputs": [
    {
     "data": {
      "text/plain": [
       "<AxesSubplot:xlabel='X4 number of convenience stores'>"
      ]
     },
     "execution_count": 396,
     "metadata": {},
     "output_type": "execute_result"
    },
    {
     "data": {
      "image/png": "[encoded data removed]",
      "text/plain": [
       "<Figure size 842.4x595.44 with 1 Axes>"
      ]
     },
     "metadata": {},
     "output_type": "display_data"
    }
   ],
   "source": [
    "ds.groupby('X4 number of convenience stores')['Y house price of unit area'].mean().plot.bar()"
   ]
  },
  {
   "cell_type": "code",
   "execution_count": 397,
   "id": "9d2148fe",
   "metadata": {},
   "outputs": [
    {
     "data": {
      "text/plain": [
       "(414, 9)"
      ]
     },
     "execution_count": 397,
     "metadata": {},
     "output_type": "execute_result"
    }
   ],
   "source": [
    "ds.shape"
   ]
  },
  {
   "cell_type": "code",
   "execution_count": 398,
   "id": "cc6f332d",
   "metadata": {},
   "outputs": [],
   "source": [
    "x = ds.drop('Y house price of unit area', axis = 1)\n",
    "y = ds['Y house price of unit area']"
   ]
  },
  {
   "cell_type": "code",
   "execution_count": 399,
   "id": "8c7a26d8",
   "metadata": {},
   "outputs": [],
   "source": [
    "from sklearn.model_selection import train_test_split"
   ]
  },
  {
   "cell_type": "code",
   "execution_count": 400,
   "id": "979c7e0c",
   "metadata": {},
   "outputs": [],
   "source": [
    "xtrain, xtest, ytrain, ytest = train_test_split(x, y, test_size = 0.2, random_state = 0)"
   ]
  },
  {
   "cell_type": "code",
   "execution_count": 401,
   "id": "31ae1323",
   "metadata": {},
   "outputs": [],
   "source": [
    "from sklearn.linear_model import LinearRegression"
   ]
  },
  {
   "cell_type": "code",
   "execution_count": 402,
   "id": "be454b25",
   "metadata": {},
   "outputs": [],
   "source": [
    "lm = LinearRegression()"
   ]
  },
  {
   "cell_type": "code",
   "execution_count": 403,
   "id": "1034cb56",
   "metadata": {},
   "outputs": [
    {
     "data": {
      "text/plain": [
       "LinearRegression()"
      ]
     },
     "execution_count": 403,
     "metadata": {},
     "output_type": "execute_result"
    }
   ],
   "source": [
    "lm.fit(xtrain, ytrain)"
   ]
  },
  {
   "cell_type": "code",
   "execution_count": 404,
   "id": "86ad5c1a",
   "metadata": {},
   "outputs": [],
   "source": [
    "ypred = lm.predict(xtest)"
   ]
  },
  {
   "cell_type": "code",
   "execution_count": 405,
   "id": "64de22f7",
   "metadata": {},
   "outputs": [],
   "source": [
    "from sklearn.metrics import r2_score"
   ]
  },
  {
   "cell_type": "code",
   "execution_count": 406,
   "id": "062715e4",
   "metadata": {},
   "outputs": [
    {
     "data": {
      "text/plain": [
       "0.6689160049049974"
      ]
     },
     "execution_count": 406,
     "metadata": {},
     "output_type": "execute_result"
    }
   ],
   "source": [
    "r2_score(ytest, ypred)"
   ]
  },
  {
   "cell_type": "code",
   "execution_count": null,
   "id": "2cf1d109",
   "metadata": {},
   "outputs": [],
   "source": []
  },
  {
   "cell_type": "code",
   "execution_count": 407,
   "id": "59f84af0",
   "metadata": {},
   "outputs": [],
   "source": [
    "from sklearn.preprocessing import StandardScaler"
   ]
  },
  {
   "cell_type": "code",
   "execution_count": null,
   "id": "74069035",
   "metadata": {},
   "outputs": [],
   "source": []
  },
  {
   "cell_type": "code",
   "execution_count": 408,
   "id": "608b7d5e",
   "metadata": {},
   "outputs": [],
   "source": [
    "scx = StandardScaler()\n",
    "xtrains = scx.fit_transform(xtrain)\n",
    "scy = StandardScaler()\n",
    "ytrain = np.array(ytrain).reshape(len(ytrain), 1)\n",
    "ytrains = scy.fit_transform(ytrain)"
   ]
  },
  {
   "cell_type": "code",
   "execution_count": 409,
   "id": "c8d1cbf5",
   "metadata": {},
   "outputs": [],
   "source": [
    "from sklearn.svm import SVR"
   ]
  },
  {
   "cell_type": "code",
   "execution_count": 410,
   "id": "1e11a4eb",
   "metadata": {},
   "outputs": [],
   "source": [
    "svr = SVR(kernel = 'linear')"
   ]
  },
  {
   "cell_type": "code",
   "execution_count": 411,
   "id": "a70358e9",
   "metadata": {},
   "outputs": [
    {
     "name": "stderr",
     "output_type": "stream",
     "text": [
      "C:\\Users\\Yogesh\\anaconda3\\lib\\site-packages\\sklearn\\utils\\validation.py:63: DataConversionWarning: A column-vector y was passed when a 1d array was expected. Please change the shape of y to (n_samples, ), for example using ravel().\n",
      "  return f(*args, **kwargs)\n"
     ]
    },
    {
     "data": {
      "text/plain": [
       "SVR(kernel='linear')"
      ]
     },
     "execution_count": 411,
     "metadata": {},
     "output_type": "execute_result"
    }
   ],
   "source": [
    "svr.fit(xtrains, ytrains)"
   ]
  },
  {
   "cell_type": "code",
   "execution_count": 412,
   "id": "1e78b5f3",
   "metadata": {},
   "outputs": [],
   "source": [
    "ypred = scy.inverse_transform(svr.predict(scx.transform(xtest)))"
   ]
  },
  {
   "cell_type": "code",
   "execution_count": 413,
   "id": "0da0cb65",
   "metadata": {},
   "outputs": [
    {
     "data": {
      "text/plain": [
       "0.44038069478563713"
      ]
     },
     "execution_count": 413,
     "metadata": {},
     "output_type": "execute_result"
    }
   ],
   "source": [
    "r2_score(ypred, ytest)"
   ]
  },
  {
   "cell_type": "code",
   "execution_count": 414,
   "id": "41a2d439",
   "metadata": {},
   "outputs": [],
   "source": [
    "import seaborn as sb\n",
    "sb.set(rc={'figure.figsize':(11.7,8.27)})"
   ]
  },
  {
   "cell_type": "code",
   "execution_count": 415,
   "id": "08e71038",
   "metadata": {},
   "outputs": [
    {
     "data": {
      "text/plain": [
       "<AxesSubplot:>"
      ]
     },
     "execution_count": 415,
     "metadata": {},
     "output_type": "execute_result"
    },
    {
     "data": {
      "image/png": "[encoded data removed]",
      "text/plain": [
       "<Figure size 842.4x595.44 with 2 Axes>"
      ]
     },
     "metadata": {},
     "output_type": "display_data"
    }
   ],
   "source": [
    "sb.heatmap(ds.corr(), annot = True)"
   ]
  },
  {
   "cell_type": "code",
   "execution_count": null,
   "id": "a3e7aacf",
   "metadata": {},
   "outputs": [],
   "source": []
  }
 ],
 "metadata": {
  "kernelspec": {
   "display_name": "Python 3",
   "language": "python",
   "name": "python3"
  },
  "language_info": {
   "codemirror_mode": {
    "name": "ipython",
    "version": 3
   },
   "file_extension": ".py",
   "mimetype": "text/x-python",
   "name": "python",
   "nbconvert_exporter": "python",
   "pygments_lexer": "ipython3",
   "version": "3.8.8"
  }
 },
 "nbformat": 4,
 "nbformat_minor": 5
}
